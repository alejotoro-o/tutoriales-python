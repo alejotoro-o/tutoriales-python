{
 "cells": [
  {
   "cell_type": "markdown",
   "metadata": {},
   "source": [
    "# Guardar Información en Bases de Datos Relacionales con SQLite3 en Python"
   ]
  },
  {
   "cell_type": "markdown",
   "metadata": {},
   "source": [
    "Importamos la libreria SQLite3 y creamos una conexión con la base de datos."
   ]
  },
  {
   "cell_type": "code",
   "execution_count": 53,
   "metadata": {},
   "outputs": [],
   "source": [
    "import sqlite3\n",
    "con = sqlite3.connect(\"archivos/database.db\")"
   ]
  },
  {
   "cell_type": "markdown",
   "metadata": {},
   "source": [
    "Creamos un cursor para acceder a la base de datos."
   ]
  },
  {
   "cell_type": "code",
   "execution_count": 54,
   "metadata": {},
   "outputs": [],
   "source": [
    "cur = con.cursor()"
   ]
  },
  {
   "cell_type": "markdown",
   "metadata": {},
   "source": [
    "Creamos una tabla."
   ]
  },
  {
   "cell_type": "code",
   "execution_count": 55,
   "metadata": {},
   "outputs": [
    {
     "data": {
      "text/plain": [
       "<sqlite3.Cursor at 0x2378c9f6260>"
      ]
     },
     "execution_count": 55,
     "metadata": {},
     "output_type": "execute_result"
    }
   ],
   "source": [
    "cur.execute(\"CREATE TABLE personas(nombre, id, edad)\")"
   ]
  },
  {
   "cell_type": "code",
   "execution_count": 56,
   "metadata": {},
   "outputs": [
    {
     "data": {
      "text/plain": [
       "('personas',)"
      ]
     },
     "execution_count": 56,
     "metadata": {},
     "output_type": "execute_result"
    }
   ],
   "source": [
    "res = cur.execute(\"SELECT name FROM sqlite_master\")\n",
    "res.fetchone()"
   ]
  },
  {
   "cell_type": "code",
   "execution_count": 57,
   "metadata": {},
   "outputs": [
    {
     "data": {
      "text/plain": [
       "True"
      ]
     },
     "execution_count": 57,
     "metadata": {},
     "output_type": "execute_result"
    }
   ],
   "source": [
    "res = cur.execute(\"SELECT name FROM sqlite_master WHERE name='cargo'\")\n",
    "res.fetchone() is None"
   ]
  },
  {
   "cell_type": "markdown",
   "metadata": {},
   "source": [
    "Ahora vamos a agregar datos a nuetra base de datos."
   ]
  },
  {
   "cell_type": "code",
   "execution_count": 58,
   "metadata": {},
   "outputs": [],
   "source": [
    "cur.execute(\"\"\"\n",
    "    INSERT INTO personas VALUES\n",
    "        ('Jairo', 1, 23),\n",
    "        ('Carlos', 2, 31)\n",
    "\"\"\")\n",
    "con.commit() ## El método execute deja la transaccion o proceso abierto, debemos utilizar el método commit para aplicar los cambios"
   ]
  },
  {
   "cell_type": "code",
   "execution_count": 59,
   "metadata": {},
   "outputs": [
    {
     "data": {
      "text/plain": [
       "[('Jairo',), ('Carlos',)]"
      ]
     },
     "execution_count": 59,
     "metadata": {},
     "output_type": "execute_result"
    }
   ],
   "source": [
    "res = cur.execute(\"SELECT nombre FROM personas\")\n",
    "res.fetchall()"
   ]
  },
  {
   "cell_type": "code",
   "execution_count": 60,
   "metadata": {},
   "outputs": [],
   "source": [
    "data = [\n",
    "    ('Alejandro', 3, 24),\n",
    "    ('Camilo', 4, 17),\n",
    "    ('Santiago', 5, 28)\n",
    "]\n",
    "cur.executemany(\"INSERT INTO personas VALUES(?, ?, ?)\", data)\n",
    "con.commit() "
   ]
  },
  {
   "cell_type": "code",
   "execution_count": 61,
   "metadata": {},
   "outputs": [
    {
     "name": "stdout",
     "output_type": "stream",
     "text": [
      "('Camilo', 17)\n",
      "('Jairo', 23)\n",
      "('Alejandro', 24)\n",
      "('Santiago', 28)\n",
      "('Carlos', 31)\n"
     ]
    }
   ],
   "source": [
    "for row in cur.execute(\"SELECT nombre, edad FROM personas ORDER BY edad\"):\n",
    "    print(row)"
   ]
  },
  {
   "cell_type": "markdown",
   "metadata": {},
   "source": [
    "Podemos obtener los resultados de forma descendente."
   ]
  },
  {
   "cell_type": "code",
   "execution_count": 62,
   "metadata": {},
   "outputs": [
    {
     "name": "stdout",
     "output_type": "stream",
     "text": [
      "('Carlos', 31)\n",
      "('Santiago', 28)\n",
      "('Alejandro', 24)\n",
      "('Jairo', 23)\n",
      "('Camilo', 17)\n"
     ]
    }
   ],
   "source": [
    "for row in cur.execute(\"SELECT nombre, edad FROM personas ORDER BY edad DESC\"):\n",
    "    print(row)"
   ]
  },
  {
   "cell_type": "code",
   "execution_count": 63,
   "metadata": {},
   "outputs": [],
   "source": [
    "con.close()"
   ]
  },
  {
   "cell_type": "code",
   "execution_count": 64,
   "metadata": {},
   "outputs": [],
   "source": [
    "con = sqlite3.connect(\"archivos/database.db\")\n",
    "cur = con.cursor()\n",
    "cur.execute(\"DROP TABLE personas\")\n",
    "res = cur.execute(\"SELECT name FROM sqlite_master\")\n",
    "res.fetchone()\n",
    "con.close()"
   ]
  },
  {
   "cell_type": "markdown",
   "metadata": {},
   "source": [
    "## Aplicación utilizando Programación Orientada a Objetos (POO)\n",
    "\n",
    "El uso de una base de datos relacional nos permite una mayor flexibilidad a la hora de guardar información cuando estamos programando en python. Consideremos el siguiente ejemplo: somos una empresa que esta encargada de la nomina de multiples empresas, asi que creamos una aplicación donde tenemos la información de las empresas que menejamos y sus empleados.\n",
    "\n",
    "Supongamos que tenemos dos empresas \"A\" y \"B\" cada una de estas empresas tiene una serie de empleados \"a#\" y \"b#\" respectivamente. Queremos guardar la información en una base de datos de modo que nuestra aplicación tenga memoria de que empleados pertenecen a que empresa."
   ]
  },
  {
   "cell_type": "code",
   "execution_count": 65,
   "metadata": {},
   "outputs": [],
   "source": [
    "class Empresa():\n",
    "\n",
    "    def __init__(self, nombre, empleados = []):\n",
    "        \n",
    "        self.nombre = nombre\n",
    "        self.empleados = empleados\n",
    "\n",
    "class Empleado():\n",
    "\n",
    "    def __init__(self, nombre, cargo, fecha_inicio):\n",
    "\n",
    "        self.nombre = nombre\n",
    "        self.cargo = cargo\n",
    "        self.fecha_inicio = fecha_inicio\n",
    "\n",
    "empresa_A = Empresa(\n",
    "    nombre=\"A\",\n",
    "    empleados=[\n",
    "        Empleado(\"a1\", \"Gerente\", 2010),\n",
    "        Empleado(\"a2\", \"Vendedor\", 2016),\n",
    "        Empleado(\"a3\", \"Practicante\", 2024),\n",
    "    ]\n",
    ")\n",
    "\n",
    "empresa_B = Empresa(\n",
    "    nombre=\"B\",\n",
    "    empleados=[\n",
    "        Empleado(\"b1\", \"CEO\", 2020),\n",
    "        Empleado(\"b2\", \"Programador\", 2020),\n",
    "    ]\n",
    ")"
   ]
  },
  {
   "cell_type": "code",
   "execution_count": 66,
   "metadata": {},
   "outputs": [
    {
     "name": "stdout",
     "output_type": "stream",
     "text": [
      "Los empleados de la empresa A son:\n",
      "a1\n",
      "a2\n",
      "a3\n",
      "-----------------------------------------\n",
      "Los empleados de la empresa B son:\n",
      "b1\n",
      "b2\n"
     ]
    }
   ],
   "source": [
    "print(\"Los empleados de la empresa %s son:\" % empresa_A.nombre)\n",
    "for e in empresa_A.empleados:\n",
    "    print(e.nombre)\n",
    "print(\"-----------------------------------------\")\n",
    "print(\"Los empleados de la empresa %s son:\" % empresa_B.nombre)\n",
    "for e in empresa_B.empleados:\n",
    "    print(e.nombre)"
   ]
  },
  {
   "cell_type": "markdown",
   "metadata": {},
   "source": [
    "Ahora creemos nuestra base de datos."
   ]
  },
  {
   "cell_type": "code",
   "execution_count": 67,
   "metadata": {},
   "outputs": [],
   "source": [
    "con = sqlite3.connect(\"archivos/database.db\")\n",
    "cur = con.cursor()"
   ]
  },
  {
   "cell_type": "markdown",
   "metadata": {},
   "source": [
    "Crearemos dos tablas, una donde guardaremos las empresas y otra donde guardaremos los diferentes empleados."
   ]
  },
  {
   "cell_type": "code",
   "execution_count": 68,
   "metadata": {},
   "outputs": [
    {
     "data": {
      "text/plain": [
       "<sqlite3.Cursor at 0x2378c9fd110>"
      ]
     },
     "execution_count": 68,
     "metadata": {},
     "output_type": "execute_result"
    }
   ],
   "source": [
    "cur.execute(\"\"\"CREATE TABLE empresas(\n",
    "                                empresa_id INTEGER PRIMARY KEY,\n",
    "                                nombre TEXT)\"\"\")\n",
    "cur.execute(\"\"\"CREATE TABLE empleados(\n",
    "                                empleado_id INTEGER PRIMARY KEY,\n",
    "                                nombre TEXT, cargo TEXT,\n",
    "                                fecha_inicio INTEGER,\n",
    "                                empresa_id INTEGER,\n",
    "                                FOREING KEY empresa_id\n",
    "                                    REFERENCES empresas(empresa_id))\"\"\")"
   ]
  },
  {
   "cell_type": "code",
   "execution_count": 69,
   "metadata": {},
   "outputs": [
    {
     "name": "stdout",
     "output_type": "stream",
     "text": [
      "[('empresas',), ('empleados',)]\n"
     ]
    }
   ],
   "source": [
    "cur.execute(\"SELECT name FROM sqlite_master WHERE type='table';\")\n",
    "print(cur.fetchall())"
   ]
  },
  {
   "cell_type": "markdown",
   "metadata": {},
   "source": [
    "Vamos a agregar las empresas a la tabla empresas."
   ]
  },
  {
   "cell_type": "code",
   "execution_count": 70,
   "metadata": {},
   "outputs": [],
   "source": [
    "data = [\n",
    "    (empresa_A.nombre),\n",
    "    (empresa_B.nombre)\n",
    "]\n",
    "\n",
    "cur.executemany(\"INSERT INTO empresas(nombre) VALUES(?)\", data)\n",
    "con.commit() "
   ]
  },
  {
   "cell_type": "code",
   "execution_count": 71,
   "metadata": {},
   "outputs": [
    {
     "name": "stdout",
     "output_type": "stream",
     "text": [
      "(1, 'A')\n",
      "(2, 'B')\n"
     ]
    }
   ],
   "source": [
    "for row in cur.execute(\"SELECT empresa_id, nombre FROM empresas\"):\n",
    "    print(row)"
   ]
  },
  {
   "cell_type": "markdown",
   "metadata": {},
   "source": [
    "Ahora vamos a agregar los empleados a la tabla empleados. En esta parte es muy importante asignar la ID de la empresa a cada empleado dependiendo de a que empresa pertence, esto con el fin de poder establecer las relaciones."
   ]
  },
  {
   "cell_type": "code",
   "execution_count": 72,
   "metadata": {},
   "outputs": [],
   "source": [
    "## Insertamos empleados de la empresa A\n",
    "for e in empresa_A.empleados:\n",
    "    cur.execute(\"INSERT INTO empleados(nombre, cargo, fecha_inicio, empresa_id) VALUES(?, ?, ?, ?)\", (e.nombre, e.cargo, e.fecha_inicio, 1))\n",
    "\n",
    "## Insertamos empleados de la empresa B\n",
    "for e in empresa_B.empleados:\n",
    "    cur.execute(\"INSERT INTO empleados(nombre, cargo, fecha_inicio, empresa_id) VALUES(?, ?, ?, ?)\", (e.nombre, e.cargo, e.fecha_inicio, 2))\n",
    "\n",
    "con.commit()"
   ]
  },
  {
   "cell_type": "code",
   "execution_count": 73,
   "metadata": {},
   "outputs": [
    {
     "name": "stdout",
     "output_type": "stream",
     "text": [
      "(1, 'a1', 'Gerente', 2010, 1)\n",
      "(2, 'a2', 'Vendedor', 2016, 1)\n",
      "(3, 'a3', 'Practicante', 2024, 1)\n",
      "(4, 'b1', 'CEO', 2020, 2)\n",
      "(5, 'b2', 'Programador', 2020, 2)\n"
     ]
    }
   ],
   "source": [
    "for row in cur.execute(\"SELECT empleado_id, nombre, cargo, fecha_inicio, empresa_id FROM empleados\"):\n",
    "    print(row)"
   ]
  },
  {
   "cell_type": "markdown",
   "metadata": {},
   "source": [
    "Ahora supongamos que quremos ver solamente los empleados correspondientes a la empresa A."
   ]
  },
  {
   "cell_type": "code",
   "execution_count": 74,
   "metadata": {},
   "outputs": [
    {
     "name": "stdout",
     "output_type": "stream",
     "text": [
      "(1, 'a1', 'Gerente', 2010, 1)\n",
      "(2, 'a2', 'Vendedor', 2016, 1)\n",
      "(3, 'a3', 'Practicante', 2024, 1)\n"
     ]
    }
   ],
   "source": [
    "for row in cur.execute(\"SELECT empleados.empleado_id, empleados.nombre, empleados.cargo, empleados.fecha_inicio, empleados.empresa_id FROM empleados INNER JOIN empresas ON empleados.empresa_id=empresas.empresa_id WHERE empresas.empresa_id=1\"):\n",
    "    print(row)"
   ]
  },
  {
   "cell_type": "markdown",
   "metadata": {},
   "source": [
    "Ahora los empleados de la empresa B."
   ]
  },
  {
   "cell_type": "code",
   "execution_count": 75,
   "metadata": {},
   "outputs": [
    {
     "name": "stdout",
     "output_type": "stream",
     "text": [
      "(4, 'b1', 'CEO', 2020, 2)\n",
      "(5, 'b2', 'Programador', 2020, 2)\n"
     ]
    }
   ],
   "source": [
    "for row in cur.execute(\"SELECT empleados.empleado_id, empleados.nombre, empleados.cargo, empleados.fecha_inicio, empleados.empresa_id FROM empleados INNER JOIN empresas ON empleados.empresa_id=empresas.empresa_id WHERE empresas.empresa_id=2\"):\n",
    "    print(row)"
   ]
  },
  {
   "cell_type": "markdown",
   "metadata": {},
   "source": [
    "Ahora supongamos que cerramos nuestra aplicación y una vez la volvamos a abrir queremos reestablecer los datos, es decir, volver a crear los objetos."
   ]
  },
  {
   "cell_type": "code",
   "execution_count": 76,
   "metadata": {},
   "outputs": [],
   "source": [
    "## Recreamos la empresas\n",
    "empresas = []\n",
    "\n",
    "for row in cur.execute(\"SELECT nombre FROM empresas\"):\n",
    "    empresas.append(Empresa(nombre=row[0], empleados=[]))\n",
    "\n",
    "## Añadimos los empleados de la empresa A\n",
    "for row in cur.execute(\"SELECT empleados.nombre, empleados.cargo, empleados.fecha_inicio FROM empleados INNER JOIN empresas ON empleados.empresa_id=empresas.empresa_id WHERE empresas.empresa_id=1\"):\n",
    "    empresas[0].empleados.append(Empleado(nombre=row[0], cargo=row[1], fecha_inicio=row[2]))\n",
    "## Añadimos los empleados de la empresa B\n",
    "for row in cur.execute(\"SELECT empleados.nombre, empleados.cargo, empleados.fecha_inicio FROM empleados INNER JOIN empresas ON empleados.empresa_id=empresas.empresa_id WHERE empresas.empresa_id=2\"):\n",
    "    empresas[1].empleados.append(Empleado(nombre=row[0], cargo=row[1], fecha_inicio=row[2]))"
   ]
  },
  {
   "cell_type": "code",
   "execution_count": 77,
   "metadata": {},
   "outputs": [
    {
     "name": "stdout",
     "output_type": "stream",
     "text": [
      "Los empleados de la empresa A son:\n",
      "a1\n",
      "a2\n",
      "a3\n",
      "-----------------------------------------\n",
      "Los empleados de la empresa B son:\n",
      "b1\n",
      "b2\n",
      "-----------------------------------------\n"
     ]
    }
   ],
   "source": [
    "for emp in empresas:\n",
    "    print(\"Los empleados de la empresa %s son:\" % emp.nombre)\n",
    "    for e in emp.empleados:\n",
    "        print(e.nombre)\n",
    "    print(\"-----------------------------------------\")"
   ]
  },
  {
   "cell_type": "code",
   "execution_count": 78,
   "metadata": {},
   "outputs": [],
   "source": [
    "con = sqlite3.connect(\"archivos/database.db\")\n",
    "cur = con.cursor()\n",
    "cur.execute(\"DROP TABLE empleados\")\n",
    "cur.execute(\"DROP TABLE empresas\")\n",
    "res = cur.execute(\"SELECT name FROM sqlite_master\")\n",
    "res.fetchone()\n",
    "con.close()"
   ]
  }
 ],
 "metadata": {
  "kernelspec": {
   "display_name": "Python 3",
   "language": "python",
   "name": "python3"
  },
  "language_info": {
   "codemirror_mode": {
    "name": "ipython",
    "version": 3
   },
   "file_extension": ".py",
   "mimetype": "text/x-python",
   "name": "python",
   "nbconvert_exporter": "python",
   "pygments_lexer": "ipython3",
   "version": "3.9.13"
  }
 },
 "nbformat": 4,
 "nbformat_minor": 2
}
