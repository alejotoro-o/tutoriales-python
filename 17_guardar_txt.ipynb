{
 "cells": [
  {
   "cell_type": "markdown",
   "metadata": {},
   "source": [
    "# Manipulación de Archivos de Texto en Python"
   ]
  },
  {
   "cell_type": "markdown",
   "metadata": {},
   "source": [
    "## Archivos .txt\n",
    "\n",
    "La funcion \"open()\" es utilizada para interactuar con archivos en python. Esta función recibe dos argumentos, el path del archivo y el modo de apertura. Existen cuatro opciones para el modo de apertura.\n",
    "\n",
    "\"x\" - Create - Crea un archivo en blanco.  \n",
    "\"r\" - Read - Abre el archivo para lectura (Opción por defecto).  \n",
    "\"w\" - Write - Sobrescribe sobre un archivo existente. En caso de no existir el archivo lo crea y escribe sobre el.  \n",
    "\"a\" - Append - Añade al final de un archivo existente. En caso de no existir el archivo lo crea y escribe sobre el.  \n",
    "\n",
    "Adicionalmente, se puede añadir si el archivo quiere ser manejado como binario o texto, solo basta con añadir alguna de las sigueintes dos letras luego del modo de apertura.\n",
    "\n",
    "\"t\" - Text - Maneja el archivo como texto (Opción por defecto).  \n",
    "\"b\" - Binary - Maneja el archivo como binario."
   ]
  },
  {
   "cell_type": "code",
   "execution_count": 42,
   "metadata": {},
   "outputs": [],
   "source": [
    "f = open(\"archivos/test.txt\", \"r\")"
   ]
  },
  {
   "cell_type": "code",
   "execution_count": 43,
   "metadata": {},
   "outputs": [
    {
     "name": "stdout",
     "output_type": "stream",
     "text": [
      "Hola!\n",
      "Este archivo es del tutorial de python!\n",
      "Este es un archivo de texto!\n"
     ]
    }
   ],
   "source": [
    "print(f.read())"
   ]
  },
  {
   "cell_type": "markdown",
   "metadata": {},
   "source": [
    "podemos indicar cuantos caracteres queremos leer. **Nota:** una vez leemos el archivo ya perdemos el acceso a esa lectura, por lo que tenemos que volver a abrirlo."
   ]
  },
  {
   "cell_type": "code",
   "execution_count": 44,
   "metadata": {},
   "outputs": [
    {
     "name": "stdout",
     "output_type": "stream",
     "text": [
      "Hola!\n",
      "Este\n"
     ]
    }
   ],
   "source": [
    "f = open(\"archivos/test.txt\", \"r\")\n",
    "print(f.read(10))"
   ]
  },
  {
   "cell_type": "markdown",
   "metadata": {},
   "source": [
    "podemos leer una o varias lineas del archivo."
   ]
  },
  {
   "cell_type": "code",
   "execution_count": 45,
   "metadata": {},
   "outputs": [
    {
     "name": "stdout",
     "output_type": "stream",
     "text": [
      "Hola!\n",
      "\n"
     ]
    }
   ],
   "source": [
    "f = open(\"archivos/test.txt\", \"r\")\n",
    "print(f.readline())"
   ]
  },
  {
   "cell_type": "code",
   "execution_count": 46,
   "metadata": {},
   "outputs": [
    {
     "name": "stdout",
     "output_type": "stream",
     "text": [
      "Hola!\n",
      "\n",
      "Este archivo es del tutorial de python!\n",
      "\n"
     ]
    }
   ],
   "source": [
    "f = open(\"archivos/test.txt\", \"r\")\n",
    "print(f.readline())\n",
    "print(f.readline())"
   ]
  },
  {
   "cell_type": "code",
   "execution_count": 47,
   "metadata": {},
   "outputs": [
    {
     "name": "stdout",
     "output_type": "stream",
     "text": [
      "['Hola!\\n', 'Este archivo es del tutorial de python!\\n', 'Este es un archivo de texto!']\n"
     ]
    }
   ],
   "source": [
    "f = open(\"archivos/test.txt\", \"r\")\n",
    "print(f.readlines())"
   ]
  },
  {
   "cell_type": "code",
   "execution_count": 48,
   "metadata": {},
   "outputs": [
    {
     "name": "stdout",
     "output_type": "stream",
     "text": [
      "Hola!\n",
      "\n",
      "Este archivo es del tutorial de python!\n",
      "\n",
      "Este es un archivo de texto!\n"
     ]
    }
   ],
   "source": [
    "f = open(\"archivos/test.txt\", \"r\")\n",
    "\n",
    "for l in f:\n",
    "    print(l)"
   ]
  },
  {
   "cell_type": "markdown",
   "metadata": {},
   "source": [
    "Es una buena practica cerrar el archivo una vez fue manipulado."
   ]
  },
  {
   "cell_type": "code",
   "execution_count": 49,
   "metadata": {},
   "outputs": [
    {
     "name": "stdout",
     "output_type": "stream",
     "text": [
      "Hola!\n",
      "Este archivo es del tutorial de python!\n",
      "Este es un archivo de texto!\n"
     ]
    }
   ],
   "source": [
    "f = open(\"archivos/test.txt\", \"r\")\n",
    "print(f.read())\n",
    "f.close()"
   ]
  },
  {
   "cell_type": "markdown",
   "metadata": {},
   "source": [
    "Creación de un archivo en blanco."
   ]
  },
  {
   "cell_type": "code",
   "execution_count": 50,
   "metadata": {},
   "outputs": [],
   "source": [
    "f = open(\"archivos/test_blank.txt\", \"x\")\n"
   ]
  },
  {
   "cell_type": "code",
   "execution_count": 51,
   "metadata": {},
   "outputs": [
    {
     "name": "stdout",
     "output_type": "stream",
     "text": [
      "\n"
     ]
    }
   ],
   "source": [
    "f = open(\"archivos/test_blank.txt\", \"r\")\n",
    "print(f.read())\n",
    "f.close()"
   ]
  },
  {
   "cell_type": "code",
   "execution_count": 52,
   "metadata": {},
   "outputs": [],
   "source": [
    "f = open(\"archivos/test_blank.txt\", \"w\")\n",
    "f.write(\"Este es el nuevo contenido del archivo en blanco!\")\n",
    "f.close()"
   ]
  },
  {
   "cell_type": "code",
   "execution_count": 53,
   "metadata": {},
   "outputs": [
    {
     "name": "stdout",
     "output_type": "stream",
     "text": [
      "Este es el nuevo contenido del archivo en blanco!\n"
     ]
    }
   ],
   "source": [
    "f = open(\"archivos/test_blank.txt\", \"r\")\n",
    "print(f.read())\n",
    "f.close()"
   ]
  },
  {
   "cell_type": "code",
   "execution_count": 54,
   "metadata": {},
   "outputs": [],
   "source": [
    "f = open(\"archivos/test_blank.txt\", \"w\")\n",
    "f.write(\"Acabamos de sobrescribir el contenido del archivo que estabamos manejando anteriormente!\")\n",
    "f.close()"
   ]
  },
  {
   "cell_type": "code",
   "execution_count": 55,
   "metadata": {},
   "outputs": [
    {
     "name": "stdout",
     "output_type": "stream",
     "text": [
      "Acabamos de sobrescribir el contenido del archivo que estabamos manejando anteriormente!\n"
     ]
    }
   ],
   "source": [
    "f = open(\"archivos/test_blank.txt\", \"r\")\n",
    "print(f.read())\n",
    "f.close()"
   ]
  },
  {
   "cell_type": "markdown",
   "metadata": {},
   "source": [
    "Recordemos que podemos utilizar la opción \"w\" para crear el archivo directamente."
   ]
  },
  {
   "cell_type": "code",
   "execution_count": 56,
   "metadata": {},
   "outputs": [],
   "source": [
    "f = open(\"archivos/test_write.txt\", \"w\")\n",
    "f.write(\"Acabamos de crear un archivo y escirbir sobre el!\")\n",
    "f.close()"
   ]
  },
  {
   "cell_type": "code",
   "execution_count": 57,
   "metadata": {},
   "outputs": [
    {
     "name": "stdout",
     "output_type": "stream",
     "text": [
      "Acabamos de crear un archivo y escirbir sobre el!\n"
     ]
    }
   ],
   "source": [
    "f = open(\"archivos/test_write.txt\", \"r\")\n",
    "print(f.read())\n",
    "f.close()"
   ]
  },
  {
   "cell_type": "markdown",
   "metadata": {},
   "source": [
    "Podemos añadir al archivo con la opción \"a\"."
   ]
  },
  {
   "cell_type": "code",
   "execution_count": 58,
   "metadata": {},
   "outputs": [],
   "source": [
    "f = open(\"archivos/test_write.txt\", \"a\")\n",
    "f.write(\"\\nEstamos añadiendo una nueva linea al archivo de texto!\")\n",
    "f.close()"
   ]
  },
  {
   "cell_type": "code",
   "execution_count": 59,
   "metadata": {},
   "outputs": [
    {
     "name": "stdout",
     "output_type": "stream",
     "text": [
      "Acabamos de crear un archivo y escirbir sobre el!\n",
      "Estamos añadiendo una nueva linea al archivo de texto!\n"
     ]
    }
   ],
   "source": [
    "f = open(\"archivos/test_write.txt\", \"r\")\n",
    "print(f.read())\n",
    "f.close()"
   ]
  },
  {
   "cell_type": "markdown",
   "metadata": {},
   "source": [
    "Podemos eliminar los archivo utilizando el paquete \"os\"."
   ]
  },
  {
   "cell_type": "code",
   "execution_count": 60,
   "metadata": {},
   "outputs": [],
   "source": [
    "import os\n",
    "\n",
    "os.remove(\"archivos/test_blank.txt\")\n",
    "os.remove(\"archivos/test_write.txt\")"
   ]
  },
  {
   "cell_type": "markdown",
   "metadata": {},
   "source": [
    "## Archivos separados por comas .csv\n",
    "\n",
    "Los archivos separados por comas son un archivo que sigue la estuctura:\n",
    "\n",
    "texto,texto,texto,texo  \n",
    "\n",
    "Estos son utiles ya que permiten ser importados facilmente en aplicación como excel y permiten guardar la información de forma estructurada."
   ]
  },
  {
   "cell_type": "code",
   "execution_count": 61,
   "metadata": {},
   "outputs": [],
   "source": [
    "f = open(\"archivos/test_csv.txt\", \"w\")\n",
    "f.write(\"dato1,dato2,dato3\\n\")\n",
    "f.write(\"dato4,dato5,dato6\")\n",
    "f.close()"
   ]
  },
  {
   "cell_type": "code",
   "execution_count": 63,
   "metadata": {},
   "outputs": [],
   "source": [
    "os.remove(\"archivos/test_csv.txt\")"
   ]
  },
  {
   "cell_type": "code",
   "execution_count": 64,
   "metadata": {},
   "outputs": [],
   "source": [
    "f = open(\"archivos/test_csv.csv\", \"w\")\n",
    "f.write(\"dato1,dato2,dato3\\n\")\n",
    "f.write(\"dato4,dato5,dato6\")\n",
    "f.close()"
   ]
  },
  {
   "cell_type": "code",
   "execution_count": 65,
   "metadata": {},
   "outputs": [],
   "source": [
    "os.remove(\"archivos/test_csv.csv\")"
   ]
  },
  {
   "cell_type": "markdown",
   "metadata": {},
   "source": [
    "Podemos utilizar el paquete \"csv\" para guardar rapidamente archivos separados por comas."
   ]
  },
  {
   "cell_type": "code",
   "execution_count": 66,
   "metadata": {},
   "outputs": [],
   "source": [
    "import csv"
   ]
  },
  {
   "cell_type": "markdown",
   "metadata": {},
   "source": [
    "Podemos guardar los datos que se encuentran en una lista. Cada entrada de la lista puede ser un diccionario o otra lista.\n",
    "\n",
    "Para el caso en que cada entrada es un diccionario."
   ]
  },
  {
   "cell_type": "code",
   "execution_count": 72,
   "metadata": {},
   "outputs": [],
   "source": [
    "datos = [\n",
    "    {\"nombre\": \"Alejandro\", \"id\": 1, \"edad\": 24},\n",
    "    {\"nombre\": \"Camilo\", \"id\": 2, \"edad\": 17},\n",
    "    {\"nombre\": \"Santiago\", \"id\": 3, \"edad\": 28}\n",
    "]\n",
    "\n",
    "with open('archivos/personas.csv', 'w', newline=\"\") as csvfile:\n",
    "    fieldnames = ['nombre', 'id', 'edad']\n",
    "    writer = csv.DictWriter(csvfile, fieldnames=fieldnames)\n",
    "    writer.writeheader() # Incluye los encabezados de las columnas.\n",
    "    writer.writerows(datos)"
   ]
  },
  {
   "cell_type": "code",
   "execution_count": 73,
   "metadata": {},
   "outputs": [
    {
     "name": "stdout",
     "output_type": "stream",
     "text": [
      "['nombre', 'id', 'edad']\n",
      "['Alejandro', '1', '24']\n",
      "['Camilo', '2', '17']\n",
      "['Santiago', '3', '28']\n"
     ]
    }
   ],
   "source": [
    "with open(\"archivos/personas.csv\", 'r') as csvfile:\n",
    "    reader = csv.reader(csvfile)\n",
    "    for row in reader:\n",
    "        print(row)"
   ]
  },
  {
   "cell_type": "code",
   "execution_count": 74,
   "metadata": {},
   "outputs": [],
   "source": [
    "os.remove(\"archivos/personas.csv\")"
   ]
  },
  {
   "cell_type": "markdown",
   "metadata": {},
   "source": [
    "Para el caso en que los datos estan en forma de lista."
   ]
  },
  {
   "cell_type": "code",
   "execution_count": 78,
   "metadata": {},
   "outputs": [],
   "source": [
    "datos = [\n",
    "    ['Nombre', 'id', 'Edad'],\n",
    "    ['Alejandro', 1, 24],\n",
    "    ['Camilo', 2, 17],\n",
    "    ['Santiago', 3, 28]\n",
    "]\n",
    "\n",
    "with open('archivos/personas.csv', 'w', newline='') as csvfile:\n",
    "    writer = csv.writer(csvfile)\n",
    "    writer.writerows(datos)"
   ]
  },
  {
   "cell_type": "code",
   "execution_count": 79,
   "metadata": {},
   "outputs": [
    {
     "name": "stdout",
     "output_type": "stream",
     "text": [
      "['Nombre', 'id', 'Edad']\n",
      "['Alejandro', '1', '24']\n",
      "['Camilo', '2', '17']\n",
      "['Santiago', '3', '28']\n"
     ]
    }
   ],
   "source": [
    "with open(\"archivos/personas.csv\", 'r') as csvfile:\n",
    "    reader = csv.reader(csvfile)\n",
    "    for row in reader:\n",
    "        print(row)"
   ]
  },
  {
   "cell_type": "markdown",
   "metadata": {},
   "source": [
    "## Aplicación utilizando Programación Orientada a Objetos (POO)"
   ]
  },
  {
   "cell_type": "code",
   "execution_count": 114,
   "metadata": {},
   "outputs": [],
   "source": [
    "class Persona():\n",
    "\n",
    "    def __init__(self, nombre, id, edad):\n",
    "        \n",
    "        self.nombre = nombre\n",
    "        self.id = id\n",
    "        self.edad = edad\n",
    "\n",
    "    def __str__(self):\n",
    "        return \"%s - %s - %s\" % (self.nombre, self.id, self.edad)\n",
    "\n",
    "p1 = Persona(\"Miguel\", 1, 30)\n",
    "p2 = Persona(\"Andrea\", 2, 25)\n",
    "p3 = Persona(\"Esteban\", 3, 22)\n",
    "p4 = Persona(\"Jorge\", 4, 20)\n",
    "\n",
    "personas = [p1,p2,p3,p4]"
   ]
  },
  {
   "cell_type": "code",
   "execution_count": 102,
   "metadata": {},
   "outputs": [],
   "source": [
    "with open('archivos/personas.csv', 'w', newline='') as csvfile:\n",
    "    writer = csv.writer(csvfile)\n",
    "    for p in personas:\n",
    "        writer.writerow([p.nombre,p.id,p.edad])"
   ]
  },
  {
   "cell_type": "code",
   "execution_count": 103,
   "metadata": {},
   "outputs": [
    {
     "name": "stdout",
     "output_type": "stream",
     "text": [
      "['Miguel', '1', '30']\n",
      "['Andrea', '2', '25']\n",
      "['Esteban', '3', '22']\n",
      "['Jorge', '4', '20']\n"
     ]
    }
   ],
   "source": [
    "with open(\"archivos/personas.csv\", 'r') as csvfile:\n",
    "    reader = csv.reader(csvfile)\n",
    "    for row in reader:\n",
    "        print(row)"
   ]
  },
  {
   "cell_type": "markdown",
   "metadata": {},
   "source": [
    "Podemos volver a recrear los objetos a partir del archivo guardado."
   ]
  },
  {
   "cell_type": "code",
   "execution_count": 116,
   "metadata": {},
   "outputs": [],
   "source": [
    "lista_personas = []\n",
    "\n",
    "with open(\"archivos/personas.csv\", 'r') as csvfile:\n",
    "    reader = csv.reader(csvfile)\n",
    "    for row in reader:\n",
    "        lista_personas.append(Persona(row[0],row[1],row[2]))"
   ]
  },
  {
   "cell_type": "code",
   "execution_count": 117,
   "metadata": {},
   "outputs": [
    {
     "name": "stdout",
     "output_type": "stream",
     "text": [
      "Miguel - 1 - 30\n",
      "Andrea - 2 - 25\n",
      "Esteban - 3 - 22\n",
      "Jorge - 4 - 20\n"
     ]
    }
   ],
   "source": [
    "for p in lista_personas:\n",
    "    print(p)"
   ]
  },
  {
   "cell_type": "code",
   "execution_count": 118,
   "metadata": {},
   "outputs": [],
   "source": [
    "os.remove(\"archivos/personas.csv\")"
   ]
  }
 ],
 "metadata": {
  "kernelspec": {
   "display_name": "Python 3",
   "language": "python",
   "name": "python3"
  },
  "language_info": {
   "codemirror_mode": {
    "name": "ipython",
    "version": 3
   },
   "file_extension": ".py",
   "mimetype": "text/x-python",
   "name": "python",
   "nbconvert_exporter": "python",
   "pygments_lexer": "ipython3",
   "version": "3.9.13"
  }
 },
 "nbformat": 4,
 "nbformat_minor": 2
}
