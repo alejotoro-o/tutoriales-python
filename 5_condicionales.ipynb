{
 "cells": [
  {
   "cell_type": "markdown",
   "metadata": {},
   "source": [
    "# Estructuras Condicionales en Python"
   ]
  },
  {
   "cell_type": "markdown",
   "metadata": {},
   "source": [
    "## Declaración If"
   ]
  },
  {
   "cell_type": "code",
   "execution_count": 3,
   "metadata": {},
   "outputs": [
    {
     "name": "stdout",
     "output_type": "stream",
     "text": [
      "La condición es verdadera\n",
      "Continuando la ejecución del codigo...\n"
     ]
    }
   ],
   "source": [
    "condicion = True\n",
    "\n",
    "if condicion:\n",
    "    print(\"La condición es verdadera\")\n",
    "\n",
    "print(\"Continuando la ejecución del codigo...\")"
   ]
  },
  {
   "cell_type": "code",
   "execution_count": 5,
   "metadata": {},
   "outputs": [],
   "source": [
    "a = 1\n",
    "b = 1\n",
    "\n",
    "if a + b == 2:\n",
    "    print(\"La condición es verdadera: a + b == 2\")"
   ]
  },
  {
   "cell_type": "code",
   "execution_count": 9,
   "metadata": {},
   "outputs": [
    {
     "name": "stdout",
     "output_type": "stream",
     "text": [
      "La condición es verdedera: a*b > 1 and b > 4\n"
     ]
    }
   ],
   "source": [
    "a = 1\n",
    "b = 8\n",
    "\n",
    "if a*b > 1 and b > 4:\n",
    "    print(\"La condición es verdedera: a*b > 1 and b > 4\")"
   ]
  },
  {
   "cell_type": "markdown",
   "metadata": {},
   "source": [
    "## Declaración If Else"
   ]
  },
  {
   "cell_type": "code",
   "execution_count": 13,
   "metadata": {},
   "outputs": [
    {
     "name": "stdout",
     "output_type": "stream",
     "text": [
      "La condición es verdadera\n",
      "Continuando con la ejecución del codigo...\n"
     ]
    }
   ],
   "source": [
    "condicion = True\n",
    "\n",
    "if condicion:\n",
    "    print(\"La condición es verdadera\")\n",
    "else:\n",
    "    print(\"La condición es falsa\")\n",
    "\n",
    "print(\"Continuando con la ejecución del codigo...\")"
   ]
  },
  {
   "cell_type": "code",
   "execution_count": 16,
   "metadata": {},
   "outputs": [
    {
     "name": "stdout",
     "output_type": "stream",
     "text": [
      "La condición NO es verdadera, por lo tanto: a <= b --> 1 <= 1\n"
     ]
    }
   ],
   "source": [
    "a = 1\n",
    "b = 0\n",
    "\n",
    "if a > b:\n",
    "    print(\"La condición es verdadera: a > b --> %s > %s\" % (a, b))\n",
    "else:\n",
    "    print(\"La condición NO es verdadera, por lo tanto: a <= b --> %s <= %s\" % (a, b))"
   ]
  },
  {
   "cell_type": "markdown",
   "metadata": {},
   "source": [
    "## Declaración If ElIf"
   ]
  },
  {
   "cell_type": "code",
   "execution_count": 19,
   "metadata": {},
   "outputs": [
    {
     "name": "stdout",
     "output_type": "stream",
     "text": [
      "El número es impar\n"
     ]
    }
   ],
   "source": [
    "num = 9\n",
    "\n",
    "if num == 0:\n",
    "    print(\"El número es 0\")\n",
    "elif num % 2 == 0:\n",
    "    print(\"El número es par\")\n",
    "else:\n",
    "    print(\"El número es impar\")"
   ]
  },
  {
   "cell_type": "markdown",
   "metadata": {},
   "source": [
    "## Declaraciones Anidadas"
   ]
  },
  {
   "cell_type": "code",
   "execution_count": 23,
   "metadata": {},
   "outputs": [
    {
     "name": "stdout",
     "output_type": "stream",
     "text": [
      "Ejecutando primer if: a == 1\n",
      "Continuando codigo afuera de los if...\n"
     ]
    }
   ],
   "source": [
    "a = 1\n",
    "b = 0\n",
    "\n",
    "if a == 1:\n",
    "    print(\"Ejecutando primer if: a == 1\")\n",
    "    if b == 1:\n",
    "        print(\"Ejecutando if anidado: a == 1 y b == 1\")\n",
    "\n",
    "print(\"Continuando codigo afuera de los if...\")"
   ]
  },
  {
   "cell_type": "code",
   "execution_count": 28,
   "metadata": {},
   "outputs": [
    {
     "name": "stdout",
     "output_type": "stream",
     "text": [
      "Bienvenido user\n"
     ]
    }
   ],
   "source": [
    "usuario = \"user\"\n",
    "\n",
    "if usuario == \"user\" or usuario == \"admin\":\n",
    "\n",
    "    print(\"Bienvenido\", usuario)\n",
    "\n",
    "    if usuario == \"admin\":\n",
    "\n",
    "        print(\"El usuario tiene permisos de administrador\")\n",
    "\n",
    "elif usuario == \"visitor\":\n",
    "\n",
    "    print(\"Bienvenido visitante (Funciones restringidas)\")\n",
    "\n",
    "else:\n",
    "\n",
    "    print(\"Acceso denegado\")"
   ]
  },
  {
   "cell_type": "markdown",
   "metadata": {},
   "source": [
    "## Declaración Match - Case (Python > 3.10)"
   ]
  },
  {
   "cell_type": "markdown",
   "metadata": {},
   "source": [
    "La declaración match - case nos permite reescibir la syntaxis de una declaración If ElIf. Supongamos la siguiente declaración IF ElIf:"
   ]
  },
  {
   "cell_type": "code",
   "execution_count": 37,
   "metadata": {},
   "outputs": [
    {
     "name": "stdout",
     "output_type": "stream",
     "text": [
      "El caso no existe\n"
     ]
    }
   ],
   "source": [
    "caso = \"caso 1\"\n",
    "\n",
    "if caso == \"caso 1\":\n",
    "    print(\"Este es el caso 1\")\n",
    "elif caso == \"caso 2\":\n",
    "    print(\"Este es el caso 2\")\n",
    "elif caso == \"caso 3\":\n",
    "    print(\"Este es el caso 3\")\n",
    "else:\n",
    "    print(\"El caso no existe\")"
   ]
  },
  {
   "cell_type": "markdown",
   "metadata": {},
   "source": [
    "La declaración anterior puede ser reescrita como una declaración match - case de la siguiente forma:"
   ]
  },
  {
   "cell_type": "code",
   "execution_count": 33,
   "metadata": {},
   "outputs": [
    {
     "name": "stdout",
     "output_type": "stream",
     "text": [
      "El caso no existe\n"
     ]
    }
   ],
   "source": [
    "caso = \"caso 1\"\n",
    "\n",
    "match caso:\n",
    "    case \"caso 1\":\n",
    "        print(\"Este es el caso 1\")\n",
    "    case \"caso 2\":\n",
    "        print(\"Este es el caso 2\")\n",
    "    case \"caso 3\":\n",
    "        print(\"Este es el caso 3\")\n",
    "    case _:\n",
    "        print(\"El caso no existe\")"
   ]
  }
 ],
 "metadata": {
  "kernelspec": {
   "display_name": "Python 3",
   "language": "python",
   "name": "python3"
  },
  "language_info": {
   "codemirror_mode": {
    "name": "ipython",
    "version": 3
   },
   "file_extension": ".py",
   "mimetype": "text/x-python",
   "name": "python",
   "nbconvert_exporter": "python",
   "pygments_lexer": "ipython3",
   "version": "3.10.11"
  }
 },
 "nbformat": 4,
 "nbformat_minor": 2
}
