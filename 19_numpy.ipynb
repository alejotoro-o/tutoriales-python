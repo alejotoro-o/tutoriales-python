{
 "cells": [
  {
   "cell_type": "markdown",
   "metadata": {},
   "source": [
    "# Libreria NumPy\n",
    "\n",
    "NumPy es una libreria para python que permite trabajar con vectores y matrices multidimensionales. Es una libreria especialisada en cálculo numerico y cuenta con una gran colección de funciones para operar dichos vectores y/o matrices. Es una de las librerias más populares y utilizdas en python por lo que es fundamental tener conocimiento sobre ella.\n",
    "\n",
    "Instalación:\n",
    "\n",
    "    pip install numpy"
   ]
  },
  {
   "cell_type": "code",
   "execution_count": 105,
   "metadata": {},
   "outputs": [],
   "source": [
    "import numpy as np"
   ]
  },
  {
   "cell_type": "markdown",
   "metadata": {},
   "source": [
    "#### Creación de vectores y matrices a partir de listas"
   ]
  },
  {
   "cell_type": "code",
   "execution_count": 106,
   "metadata": {},
   "outputs": [
    {
     "name": "stdout",
     "output_type": "stream",
     "text": [
      "1D Array: [1 2 3 4 5]\n",
      "2D Array:\n",
      " [[1 2 3]\n",
      " [4 5 6]]\n"
     ]
    }
   ],
   "source": [
    "## Vector 1D\n",
    "arr1 = np.array([1, 2, 3, 4, 5])\n",
    "print(\"1D Array:\", arr1)\n",
    "\n",
    "## Matriz 2D\n",
    "arr2 = np.array([[1, 2, 3], [4, 5, 6]])\n",
    "print(\"2D Array:\\n\", arr2)"
   ]
  },
  {
   "cell_type": "markdown",
   "metadata": {},
   "source": [
    "#### Porpiedades de un vector o matriz"
   ]
  },
  {
   "cell_type": "code",
   "execution_count": 107,
   "metadata": {},
   "outputs": [
    {
     "name": "stdout",
     "output_type": "stream",
     "text": [
      "Shape - Forma: (2, 3)\n",
      "Numero de dimensiones: 2\n",
      "Tamaño: 6\n",
      "Tipo: int32\n"
     ]
    }
   ],
   "source": [
    "arr = np.array([[1, 2, 3],\n",
    "                [4, 5, 6]])\n",
    "print(\"Shape - Forma:\", arr.shape)\n",
    "print(\"Numero de dimensiones:\", arr.ndim)\n",
    "print(\"Tamaño:\", arr.size) ## Producto de las dimensiones del vector\n",
    "print(\"Tipo:\", arr.dtype)"
   ]
  },
  {
   "cell_type": "markdown",
   "metadata": {},
   "source": [
    "#### Modificar dimensiones del vector"
   ]
  },
  {
   "cell_type": "code",
   "execution_count": 108,
   "metadata": {},
   "outputs": [
    {
     "name": "stdout",
     "output_type": "stream",
     "text": [
      "Nuevo vector:\n",
      " [[1 2]\n",
      " [3 4]\n",
      " [5 6]]\n"
     ]
    }
   ],
   "source": [
    "arr = np.array([[1, 2, 3],\n",
    "                [4, 5, 6]])\n",
    "reshaped_arr = arr.reshape(3, 2)\n",
    "print(\"Nuevo vector:\\n\", reshaped_arr)"
   ]
  },
  {
   "cell_type": "markdown",
   "metadata": {},
   "source": [
    "#### Indexación y Particiones"
   ]
  },
  {
   "cell_type": "code",
   "execution_count": 109,
   "metadata": {},
   "outputs": [
    {
     "name": "stdout",
     "output_type": "stream",
     "text": [
      "Elemento en indice 1: 2\n",
      "Elementos en indices 1 a 3: [2 3 4]\n",
      "Elemento en fila 1, columna 2: 6\n",
      "Primera fila: [1 2 3]\n",
      "Primera columna: [1 4]\n"
     ]
    }
   ],
   "source": [
    "arr = np.array([1, 2, 3, 4, 5])\n",
    "\n",
    "# Indexing\n",
    "print(\"Elemento en indice 1:\", arr[1])\n",
    "\n",
    "# Slicing\n",
    "print(\"Elementos en indices 1 a 3:\", arr[1:4])\n",
    "\n",
    "# 2D array indexing and slicing\n",
    "arr2 = np.array([[1, 2, 3],\n",
    "                 [4, 5, 6]])\n",
    "print(\"Elemento en fila 1, columna 2:\", arr2[1, 2])\n",
    "print(\"Primera fila:\", arr2[0, :])\n",
    "print(\"Primera columna:\", arr2[:, 0])"
   ]
  },
  {
   "cell_type": "markdown",
   "metadata": {},
   "source": [
    "#### Funciones basicas"
   ]
  },
  {
   "cell_type": "code",
   "execution_count": 110,
   "metadata": {},
   "outputs": [
    {
     "name": "stdout",
     "output_type": "stream",
     "text": [
      "Array of Zeros:\n",
      " [[0. 0. 0.]\n",
      " [0. 0. 0.]\n",
      " [0. 0. 0.]]\n",
      "Array of Ones:\n",
      " [[1. 1. 1. 1.]\n",
      " [1. 1. 1. 1.]]\n",
      "Range Array: [0 2 4 6 8]\n",
      "Linspace Array: [0.   0.25 0.5  0.75 1.  ]\n"
     ]
    }
   ],
   "source": [
    "## Vector de ceros\n",
    "zeros = np.zeros((3, 3))\n",
    "print(\"Array of Zeros:\\n\", zeros)\n",
    "\n",
    "## Vector de unos\n",
    "ones = np.ones((2, 4))\n",
    "print(\"Array of Ones:\\n\", ones)\n",
    "\n",
    "## Vector con un rango de valores\n",
    "range_array = np.arange(0, 10, 2)  # Inicio, Final, Paso\n",
    "print(\"Range Array:\", range_array)\n",
    "\n",
    "## Vector con valores separados de igual manera\n",
    "linspace_array = np.linspace(0, 1, 5)  ## Inicio, Final, numero de valores\n",
    "print(\"Linspace Array:\", linspace_array)\n"
   ]
  },
  {
   "cell_type": "markdown",
   "metadata": {},
   "source": [
    "#### Operaciones básicas"
   ]
  },
  {
   "cell_type": "code",
   "execution_count": 111,
   "metadata": {},
   "outputs": [
    {
     "name": "stdout",
     "output_type": "stream",
     "text": [
      "Suma elemento a elemento: [5 7 9]\n",
      "Multiplicación elemento a elemento: [ 4 10 18]\n",
      "Producto vectorial: 32\n",
      "Suma de todos los elementos: 6\n",
      "Transpuesta opción 1:\n",
      " [[1 4]\n",
      " [2 5]\n",
      " [3 6]]\n",
      "Transpuesta opción 2:\n",
      " [[1 4]\n",
      " [2 5]\n",
      " [3 6]]\n"
     ]
    }
   ],
   "source": [
    "arr1 = np.array([1, 2, 3])\n",
    "arr2 = np.array([4, 5, 6])\n",
    "\n",
    "## Element-wise addition\n",
    "print(\"Suma elemento a elemento:\", arr1 + arr2)\n",
    "\n",
    "## Element-wise multiplication\n",
    "print(\"Multiplicación elemento a elemento:\", arr1 * arr2)\n",
    "\n",
    "## Dot product\n",
    "print(\"Producto vectorial:\", np.dot(arr1, arr2))\n",
    "\n",
    "## Sum of all elements\n",
    "print(\"Suma de todos los elementos:\", np.sum(arr1))\n",
    "\n",
    "## Transpose of a matrix\n",
    "arr2d = np.array([[1, 2, 3],\n",
    "                  [4, 5, 6]])\n",
    "print(\"Transpuesta opción 1:\\n\", arr2d.T)\n",
    "print(\"Transpuesta opción 2:\\n\", np.transpose(arr2d))"
   ]
  },
  {
   "cell_type": "markdown",
   "metadata": {},
   "source": [
    "#### Funciones universales (ufunc) para operaciones elemento a elemento (Element-wise operations)"
   ]
  },
  {
   "cell_type": "code",
   "execution_count": 112,
   "metadata": {},
   "outputs": [
    {
     "name": "stdout",
     "output_type": "stream",
     "text": [
      "Raiz cuadrada: [1.         1.41421356 1.73205081 2.         2.23606798]\n",
      "Exponencial: [  2.71828183   7.3890561   20.08553692  54.59815003 148.4131591 ]\n",
      "Seno: [ 0.84147098  0.90929743  0.14112001 -0.7568025  -0.95892427]\n",
      "Coseno: [ 0.54030231 -0.41614684 -0.9899925  -0.65364362  0.28366219]\n",
      "Tangente: [ 1.55740772 -2.18503986 -0.14254654  1.15782128 -3.38051501]\n",
      "Tangente hiperbolica: [0.76159416 0.96402758 0.99505475 0.9993293  0.9999092 ]\n",
      "Seno Inverso: 0.1001674211615598\n",
      "Coseno inverso: 1.4706289056333368\n",
      "Tangente inversa: 0.09966865249116204\n",
      "Tangente inversa hiperbolica: 0.1003353477310756\n",
      "Tangente inversa 2: 0.7853981633974483\n"
     ]
    }
   ],
   "source": [
    "arr = np.array([1, 2, 3, 4, 5])\n",
    "\n",
    "## Raiz cuadrada\n",
    "print(\"Raiz cuadrada:\", np.sqrt(arr))\n",
    "\n",
    "## Exponencial\n",
    "print(\"Exponencial:\", np.exp(arr))\n",
    "\n",
    "## Funciones trigonometricas\n",
    "print(\"Seno:\", np.sin(arr))\n",
    "print(\"Coseno:\", np.cos(arr))\n",
    "print(\"Tangente:\", np.tan(arr))\n",
    "print(\"Tangente hiperbolica:\", np.tanh(arr))\n",
    "\n",
    "print(\"Seno Inverso:\", np.arcsin(0.1))\n",
    "print(\"Coseno inverso:\", np.arccos(0.1))\n",
    "print(\"Tangente inversa:\", np.arctan(0.1))\n",
    "print(\"Tangente inversa hiperbolica:\", np.arctanh(0.1))\n",
    "print(\"Tangente inversa 2:\", np.arctan2(0.1, 0.1)) ## (Y, X)"
   ]
  },
  {
   "cell_type": "markdown",
   "metadata": {},
   "source": [
    "#### Funciones de agregación y calculos estadisticos"
   ]
  },
  {
   "cell_type": "code",
   "execution_count": 113,
   "metadata": {},
   "outputs": [
    {
     "name": "stdout",
     "output_type": "stream",
     "text": [
      "Minimo: 1\n",
      "Maximo: 5\n",
      "Promedio: 3.0\n",
      "Media: 3.0\n",
      "Desviación estandar: 1.4142135623730951\n"
     ]
    }
   ],
   "source": [
    "arr = np.array([1, 2, 3, 4, 5])\n",
    "\n",
    "# Minimo\n",
    "print(\"Minimo:\", np.min(arr))\n",
    "\n",
    "# Maximo\n",
    "print(\"Maximo:\", np.max(arr))\n",
    "\n",
    "# Promedio\n",
    "print(\"Promedio:\", np.mean(arr))\n",
    "\n",
    "# Media\n",
    "print(\"Media:\", np.median(arr))\n",
    "\n",
    "# Desviación estandar\n",
    "print(\"Desviación estandar:\", np.std(arr))"
   ]
  }
 ],
 "metadata": {
  "kernelspec": {
   "display_name": "Python 3",
   "language": "python",
   "name": "python3"
  },
  "language_info": {
   "codemirror_mode": {
    "name": "ipython",
    "version": 3
   },
   "file_extension": ".py",
   "mimetype": "text/x-python",
   "name": "python",
   "nbconvert_exporter": "python",
   "pygments_lexer": "ipython3",
   "version": "3.9.13"
  }
 },
 "nbformat": 4,
 "nbformat_minor": 2
}
