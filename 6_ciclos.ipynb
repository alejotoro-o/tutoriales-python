{
 "cells": [
  {
   "cell_type": "markdown",
   "metadata": {},
   "source": [
    "# Estructuras Ciclicas en Python"
   ]
  },
  {
   "cell_type": "markdown",
   "metadata": {},
   "source": [
    "## Ciclo For"
   ]
  },
  {
   "cell_type": "code",
   "execution_count": 1,
   "metadata": {},
   "outputs": [
    {
     "name": "stdout",
     "output_type": "stream",
     "text": [
      "0\n",
      "1\n",
      "2\n",
      "3\n",
      "Continuando ejecución del codigo...\n"
     ]
    }
   ],
   "source": [
    "for i in range(4):\n",
    "    print(i)\n",
    "\n",
    "print(\"Continuando ejecución del codigo...\")"
   ]
  },
  {
   "cell_type": "code",
   "execution_count": 2,
   "metadata": {},
   "outputs": [
    {
     "name": "stdout",
     "output_type": "stream",
     "text": [
      "1\n",
      "2\n",
      "3\n",
      "4\n"
     ]
    }
   ],
   "source": [
    "for i in range(1,5):\n",
    "    print(i)"
   ]
  },
  {
   "cell_type": "code",
   "execution_count": 3,
   "metadata": {},
   "outputs": [
    {
     "name": "stdout",
     "output_type": "stream",
     "text": [
      "3\n",
      "2\n",
      "1\n",
      "0\n"
     ]
    }
   ],
   "source": [
    "for i in reversed(range(4)):\n",
    "    print(i)"
   ]
  },
  {
   "cell_type": "code",
   "execution_count": 4,
   "metadata": {},
   "outputs": [
    {
     "name": "stdout",
     "output_type": "stream",
     "text": [
      "Este\n",
      "es\n",
      "un\n",
      "ciclo\n",
      "For\n"
     ]
    }
   ],
   "source": [
    "lista = [\"Este\", \"es\", \"un\", \"ciclo\", \"For\"]\n",
    "\n",
    "for palabra in lista:\n",
    "    print(palabra)"
   ]
  },
  {
   "cell_type": "markdown",
   "metadata": {},
   "source": [
    "## Ciclo For Else"
   ]
  },
  {
   "cell_type": "code",
   "execution_count": 5,
   "metadata": {},
   "outputs": [
    {
     "name": "stdout",
     "output_type": "stream",
     "text": [
      "0\n",
      "1\n",
      "Ejecutando else despues del ciclo\n",
      "Continuando ejecución del codigo...\n"
     ]
    }
   ],
   "source": [
    "for i in range(2):\n",
    "    print(i)\n",
    "else:\n",
    "    print(\"Ejecutando else despues del ciclo\")\n",
    "\n",
    "print(\"Continuando ejecución del codigo...\")"
   ]
  },
  {
   "cell_type": "markdown",
   "metadata": {},
   "source": [
    "## Ciclo While"
   ]
  },
  {
   "cell_type": "code",
   "execution_count": 6,
   "metadata": {},
   "outputs": [
    {
     "name": "stdout",
     "output_type": "stream",
     "text": [
      "La condicion es verdadera\n",
      "La condicion es verdadera\n",
      "La condicion es verdadera\n",
      "La condicion es verdadera\n",
      "La condición es falsa, terminando ciclo while\n",
      "Continuando ejecución del codigo...\n"
     ]
    }
   ],
   "source": [
    "condicion = True\n",
    "i = 0\n",
    "\n",
    "while condicion:\n",
    "\n",
    "    print(\"La condicion es verdadera\")\n",
    "\n",
    "    i += 1\n",
    "\n",
    "    if i == 4:\n",
    "        \n",
    "        condicion = False\n",
    "        print(\"La condición es falsa, terminando ciclo while\")\n",
    "\n",
    "print(\"Continuando ejecución del codigo...\")"
   ]
  },
  {
   "cell_type": "markdown",
   "metadata": {},
   "source": [
    "## Ciclos Anidados"
   ]
  },
  {
   "cell_type": "code",
   "execution_count": 7,
   "metadata": {},
   "outputs": [
    {
     "name": "stdout",
     "output_type": "stream",
     "text": [
      "---- 0 ----\n",
      "0\n",
      "1\n",
      "---- 1 ----\n",
      "0\n",
      "1\n",
      "---- 2 ----\n",
      "0\n",
      "1\n",
      "---- 3 ----\n",
      "0\n",
      "1\n"
     ]
    }
   ],
   "source": [
    "for i in range(4):\n",
    "\n",
    "    print(\"---- \" + str(i) + \" ----\")\n",
    "\n",
    "    for j in range(2):\n",
    "        \n",
    "        print(j)"
   ]
  },
  {
   "cell_type": "code",
   "execution_count": 9,
   "metadata": {},
   "outputs": [
    {
     "name": "stdout",
     "output_type": "stream",
     "text": [
      "---- 0 ----\n",
      "0\n",
      "1\n",
      "2\n",
      "---- 1 ----\n",
      "0\n",
      "1\n",
      "2\n",
      "---- 2 ----\n",
      "0\n",
      "1\n",
      "2\n",
      "---- 3 ----\n",
      "0\n",
      "1\n",
      "2\n"
     ]
    }
   ],
   "source": [
    "for i in range(4):\n",
    "\n",
    "    print(\"---- \" + str(i) + \" ----\")\n",
    "\n",
    "    count = 0\n",
    "    condicion = True\n",
    "\n",
    "    while condicion:\n",
    "\n",
    "        print(count)\n",
    "\n",
    "        count += 1\n",
    "\n",
    "        if count == 3:\n",
    "\n",
    "            condicion = False"
   ]
  },
  {
   "cell_type": "markdown",
   "metadata": {},
   "source": [
    "## Declaración Break\n",
    "\n",
    "La declaración break finaliza la ejecución del ciclo y lo termina inmediatamente."
   ]
  },
  {
   "cell_type": "code",
   "execution_count": 11,
   "metadata": {},
   "outputs": [
    {
     "name": "stdout",
     "output_type": "stream",
     "text": [
      "0 - Ejecutando while\n",
      "1 - Ejecutando while\n",
      "2 - Ejecutando while\n",
      "3 - Ejecutando while\n",
      "Ejecutando Break, saliendo del ciclo\n",
      "Ejecutando codigo despues del ciclo\n"
     ]
    }
   ],
   "source": [
    "count = 0\n",
    "condicion = True\n",
    "\n",
    "while condicion:\n",
    "\n",
    "    print(str(count) + \" - Ejecutando while\")\n",
    "\n",
    "    count += 1\n",
    "\n",
    "    if count == 4:\n",
    "        \n",
    "        print(\"Ejecutando Break, saliendo del ciclo\")\n",
    "        break\n",
    "\n",
    "print(\"Ejecutando codigo despues del ciclo\")"
   ]
  },
  {
   "cell_type": "markdown",
   "metadata": {},
   "source": [
    "## Declaración Continue\n",
    "\n",
    "La declaración continue termina la iteración del ciclo en este punto y hace al ciclo pasar a la siguiente iteración, omitiendo el codigo que venia despues de la declaración continue."
   ]
  },
  {
   "cell_type": "code",
   "execution_count": 14,
   "metadata": {},
   "outputs": [
    {
     "name": "stdout",
     "output_type": "stream",
     "text": [
      "1\n",
      "3\n",
      "5\n",
      "7\n",
      "9\n"
     ]
    }
   ],
   "source": [
    "for i in range(10):\n",
    "\n",
    "    if i % 2 == 0:\n",
    "        continue\n",
    "\n",
    "    print(i)"
   ]
  },
  {
   "cell_type": "markdown",
   "metadata": {},
   "source": [
    "## Declaración Pass\n",
    "\n",
    "La declaración pass se utiliza como un placeholder para codigo futuro, cuando se ejecuta esta declaración no pasa nada. Esta sirve para evitar que se muestren errores en segmentos donde no tener codigo no esta permitido, como por ejemplo dentro de los ciclos."
   ]
  },
  {
   "cell_type": "code",
   "execution_count": 15,
   "metadata": {},
   "outputs": [],
   "source": [
    "for i in range(10):\n",
    "    pass"
   ]
  }
 ],
 "metadata": {
  "kernelspec": {
   "display_name": "Python 3",
   "language": "python",
   "name": "python3"
  },
  "language_info": {
   "codemirror_mode": {
    "name": "ipython",
    "version": 3
   },
   "file_extension": ".py",
   "mimetype": "text/x-python",
   "name": "python",
   "nbconvert_exporter": "python",
   "pygments_lexer": "ipython3",
   "version": "3.9.13"
  }
 },
 "nbformat": 4,
 "nbformat_minor": 2
}
