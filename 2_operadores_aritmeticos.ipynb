{
 "cells": [
  {
   "cell_type": "markdown",
   "metadata": {},
   "source": [
    "# Operadores Aritméticos en Python"
   ]
  },
  {
   "cell_type": "markdown",
   "metadata": {},
   "source": [
    "| Operador | Descripción |\n",
    "| ----------- | ----------- |\n",
    "| + | Suma |\n",
    "| - | Resta |\n",
    "| * | Producto |\n",
    "| / | División |\n",
    "| % | Modulo |\n",
    "| ** | Exponente |\n",
    "| // | División Entera |"
   ]
  },
  {
   "cell_type": "code",
   "execution_count": 2,
   "metadata": {},
   "outputs": [
    {
     "name": "stdout",
     "output_type": "stream",
     "text": [
      "a + b =  7\n",
      "a - b =  3\n",
      "a * b =  10\n",
      "a/b =  2.5\n",
      "a % b =  1\n",
      "a**b =  25\n",
      "a // b =  2\n"
     ]
    }
   ],
   "source": [
    "a = 5\n",
    "b = 2\n",
    "\n",
    "print(\"a + b = \", a + b)\n",
    "print(\"a - b = \", a - b)\n",
    "print(\"a * b = \", a * b)\n",
    "print(\"a/b = \", a / b)\n",
    "print(\"a % b = \", a % b)\n",
    "print(\"a**b = \", a**b)\n",
    "print(\"a // b = \", a // b)"
   ]
  },
  {
   "cell_type": "code",
   "execution_count": 3,
   "metadata": {},
   "outputs": [
    {
     "name": "stdout",
     "output_type": "stream",
     "text": [
      "2.0\n"
     ]
    }
   ],
   "source": [
    "print(((a/a + b)**2 - a)/2)"
   ]
  },
  {
   "cell_type": "code",
   "execution_count": 5,
   "metadata": {},
   "outputs": [
    {
     "name": "stdout",
     "output_type": "stream",
     "text": [
      "Hola Mundo\n"
     ]
    }
   ],
   "source": [
    "a = \"Hola\"\n",
    "b = \"Mundo\"\n",
    "print(a + \" \" + b)"
   ]
  }
 ],
 "metadata": {
  "kernelspec": {
   "display_name": "Python 3",
   "language": "python",
   "name": "python3"
  },
  "language_info": {
   "codemirror_mode": {
    "name": "ipython",
    "version": 3
   },
   "file_extension": ".py",
   "mimetype": "text/x-python",
   "name": "python",
   "nbconvert_exporter": "python",
   "pygments_lexer": "ipython3",
   "version": "3.9.13"
  }
 },
 "nbformat": 4,
 "nbformat_minor": 2
}
