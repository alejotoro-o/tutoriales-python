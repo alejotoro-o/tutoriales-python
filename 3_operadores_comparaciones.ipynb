{
 "cells": [
  {
   "cell_type": "markdown",
   "metadata": {},
   "source": [
    "# Operadores de Comparación en Python"
   ]
  },
  {
   "cell_type": "markdown",
   "metadata": {},
   "source": [
    "| Operador | Descripción |\n",
    "| ----------- | ----------- |\n",
    "| < | Menor que |\n",
    "| > | Mayor que |\n",
    "| <= | Menor o igual que |\n",
    "| >= | Mayor o igual que |\n",
    "| == | Igual que |\n",
    "| != | No es igual que |"
   ]
  },
  {
   "cell_type": "code",
   "execution_count": 3,
   "metadata": {},
   "outputs": [
    {
     "name": "stdout",
     "output_type": "stream",
     "text": [
      "a < b -->  False\n",
      "a > b -->  True\n",
      "a <= b -->  False\n",
      "a >= b -->  True\n",
      "a == b -->  False\n",
      "a != b -->  True\n"
     ]
    }
   ],
   "source": [
    "a = 5\n",
    "b = 2\n",
    "\n",
    "print(\"a < b --> \", a < b)\n",
    "print(\"a > b --> \", a > b)\n",
    "print(\"a <= b --> \", a <= b)\n",
    "print(\"a >= b --> \", a >= b)\n",
    "print(\"a == b --> \", a == b)\n",
    "print(\"a != b --> \", a != b)"
   ]
  },
  {
   "cell_type": "code",
   "execution_count": 5,
   "metadata": {},
   "outputs": [
    {
     "name": "stdout",
     "output_type": "stream",
     "text": [
      "b + 3 == a --> True\n",
      "b**2 > a --> False\n",
      "a % 2 == 0 --> False\n"
     ]
    }
   ],
   "source": [
    "print(\"b + 3 == a -->\", b + 3 == a)\n",
    "print(\"b**2 > a -->\", b**2 > a)\n",
    "print(\"a % 2 == 0 -->\", a % 2 == 0)"
   ]
  }
 ],
 "metadata": {
  "kernelspec": {
   "display_name": "Python 3",
   "language": "python",
   "name": "python3"
  },
  "language_info": {
   "codemirror_mode": {
    "name": "ipython",
    "version": 3
   },
   "file_extension": ".py",
   "mimetype": "text/x-python",
   "name": "python",
   "nbconvert_exporter": "python",
   "pygments_lexer": "ipython3",
   "version": "3.9.13"
  }
 },
 "nbformat": 4,
 "nbformat_minor": 2
}
