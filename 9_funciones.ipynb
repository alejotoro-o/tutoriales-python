{
 "cells": [
  {
   "cell_type": "markdown",
   "metadata": {},
   "source": [
    "# Funciones en Python\n",
    "\n",
    "Las funciones son uno de los conceptos más fundamentales en cualquier lenguaje de programación, estas permiten ejecutar un segmento de codigo solo cuando es llamado. Teniendo esto en cuenta, las funciones permiten reutilizar codigo haciendo mas legible y eficiente nuestra aplicación."
   ]
  },
  {
   "cell_type": "markdown",
   "metadata": {},
   "source": [
    "Las funciones pueden simplemente ejecutar un código cuando son llamadas,"
   ]
  },
  {
   "cell_type": "code",
   "execution_count": 1,
   "metadata": {},
   "outputs": [],
   "source": [
    "def mi_funcion():\n",
    "\n",
    "    ## Codigo de la función\n",
    "    print(\"Esta es una función\")"
   ]
  },
  {
   "cell_type": "code",
   "execution_count": 5,
   "metadata": {},
   "outputs": [
    {
     "name": "stdout",
     "output_type": "stream",
     "text": [
      "Esta es una función\n"
     ]
    }
   ],
   "source": [
    "mi_funcion()"
   ]
  },
  {
   "cell_type": "markdown",
   "metadata": {},
   "source": [
    "o tambien permiten retornar una variable,"
   ]
  },
  {
   "cell_type": "code",
   "execution_count": 6,
   "metadata": {},
   "outputs": [],
   "source": [
    "def mi_funcion():\n",
    "\n",
    "    texto = \"Esta es una función\"\n",
    "\n",
    "    return texto"
   ]
  },
  {
   "cell_type": "code",
   "execution_count": 7,
   "metadata": {},
   "outputs": [
    {
     "name": "stdout",
     "output_type": "stream",
     "text": [
      "Esta es una función\n"
     ]
    }
   ],
   "source": [
    "texto = mi_funcion()\n",
    "print(texto)"
   ]
  },
  {
   "cell_type": "code",
   "execution_count": 8,
   "metadata": {},
   "outputs": [],
   "source": [
    "def mi_funcion():\n",
    "\n",
    "    x = 1\n",
    "    y = 2\n",
    "\n",
    "    return x, y"
   ]
  },
  {
   "cell_type": "code",
   "execution_count": 9,
   "metadata": {},
   "outputs": [
    {
     "name": "stdout",
     "output_type": "stream",
     "text": [
      "1\n",
      "2\n"
     ]
    }
   ],
   "source": [
    "a, b = mi_funcion()\n",
    "print(a)\n",
    "print(b)"
   ]
  },
  {
   "cell_type": "markdown",
   "metadata": {},
   "source": [
    "## Argumentos\n",
    "\n",
    "Es posible pasar información a nuestras funciones a modo de argumentos. Estos se especifican dentro del parentesis de nuestra declaración y se separan por comas."
   ]
  },
  {
   "cell_type": "code",
   "execution_count": 10,
   "metadata": {},
   "outputs": [],
   "source": [
    "def funcion(nombre):\n",
    "\n",
    "    print(\"Mi nombre es: \", nombre)"
   ]
  },
  {
   "cell_type": "code",
   "execution_count": 11,
   "metadata": {},
   "outputs": [
    {
     "name": "stdout",
     "output_type": "stream",
     "text": [
      "Mi nombre es:  Ossaba\n",
      "Mi nombre es:  Santiago\n",
      "Mi nombre es:  Andrea\n"
     ]
    }
   ],
   "source": [
    "funcion(\"Ossaba\")\n",
    "funcion(\"Santiago\")\n",
    "funcion(\"Andrea\")"
   ]
  },
  {
   "cell_type": "markdown",
   "metadata": {},
   "source": [
    "Es posible pasar multiples argumentos a una función, lo importante es siempre llamar la función con el número correcto de argumentos."
   ]
  },
  {
   "cell_type": "code",
   "execution_count": 12,
   "metadata": {},
   "outputs": [],
   "source": [
    "def suma(a, b):\n",
    "\n",
    "    resultado = a + b\n",
    "\n",
    "    return resultado"
   ]
  },
  {
   "cell_type": "code",
   "execution_count": 14,
   "metadata": {},
   "outputs": [
    {
     "name": "stdout",
     "output_type": "stream",
     "text": [
      "8\n"
     ]
    }
   ],
   "source": [
    "resultado = suma(5, 3)\n",
    "print(resultado)"
   ]
  },
  {
   "cell_type": "code",
   "execution_count": 15,
   "metadata": {},
   "outputs": [
    {
     "name": "stdout",
     "output_type": "stream",
     "text": [
      "Ha ocurrido un error:\n",
      "suma() missing 1 required positional argument: 'b'\n"
     ]
    }
   ],
   "source": [
    "try:\n",
    "    resultado = suma(1)\n",
    "except Exception as e:\n",
    "    print(\"Ha ocurrido un error:\")\n",
    "    print(e)"
   ]
  },
  {
   "cell_type": "markdown",
   "metadata": {},
   "source": [
    "### Argumentos arbitrarios\n",
    "\n",
    "Es posible definir funciones que pueden recibir cualquier cantidad de parametros."
   ]
  },
  {
   "cell_type": "code",
   "execution_count": 16,
   "metadata": {},
   "outputs": [],
   "source": [
    "def funcion(*args):\n",
    "\n",
    "    print(\"El estudiante favorito es: \", args[1])"
   ]
  },
  {
   "cell_type": "code",
   "execution_count": 18,
   "metadata": {},
   "outputs": [
    {
     "name": "stdout",
     "output_type": "stream",
     "text": [
      "El estudiante favorito es:  Alejandro\n"
     ]
    }
   ],
   "source": [
    "funcion(\"Simon\", \"Alejandro\", \"Sara\", \"Andrea\", \"Miguel\")"
   ]
  },
  {
   "cell_type": "code",
   "execution_count": 19,
   "metadata": {},
   "outputs": [],
   "source": [
    "def funcion(*args):\n",
    "\n",
    "    for arg in args:\n",
    "        print(arg)"
   ]
  },
  {
   "cell_type": "code",
   "execution_count": 21,
   "metadata": {},
   "outputs": [
    {
     "name": "stdout",
     "output_type": "stream",
     "text": [
      "Simon\n",
      "Alejandro\n",
      "Sara\n",
      "Andrea\n",
      "Miguel\n"
     ]
    }
   ],
   "source": [
    "funcion(\"Simon\", \"Alejandro\", \"Sara\", \"Andrea\", \"Miguel\")"
   ]
  },
  {
   "cell_type": "markdown",
   "metadata": {},
   "source": [
    "### Argumentos con palabra clave (Keyword arguments)\n",
    "\n",
    "Podemos especificar argumentos utilizando una sintaxis de key-value pairs. Esto permite pasar argumentos teniendo en cuenta la palabra clave y no el orden."
   ]
  },
  {
   "cell_type": "code",
   "execution_count": 22,
   "metadata": {},
   "outputs": [],
   "source": [
    "def funcion(nombre1, nombre2, nombre3):\n",
    "\n",
    "    print(\"El ganador es: \", nombre3)"
   ]
  },
  {
   "cell_type": "code",
   "execution_count": 23,
   "metadata": {},
   "outputs": [
    {
     "name": "stdout",
     "output_type": "stream",
     "text": [
      "El ganador es:  Miguel\n"
     ]
    }
   ],
   "source": [
    "funcion(\"Catalina\", \"Andrea\", \"Miguel\") ## Si no especificamos las palabras clave el orden de los argumentos importa"
   ]
  },
  {
   "cell_type": "code",
   "execution_count": 24,
   "metadata": {},
   "outputs": [
    {
     "name": "stdout",
     "output_type": "stream",
     "text": [
      "El ganador es:  Andrea\n"
     ]
    }
   ],
   "source": [
    "funcion(nombre2 = \"Catalina\", nombre3 = \"Andrea\", nombre1 = \"Miguel\")"
   ]
  },
  {
   "cell_type": "markdown",
   "metadata": {},
   "source": [
    "### Argumentos arbitrarios con palabras clave\n",
    "\n",
    "Al igual que para los argumentos basicos, podemos definir argumentos arbitrarios con palabras clave con la sintaxis key-value pairs."
   ]
  },
  {
   "cell_type": "code",
   "execution_count": 25,
   "metadata": {},
   "outputs": [],
   "source": [
    "def funcion(**kargs):\n",
    "\n",
    "    print(\"Estamos en el año: \", kargs[\"año_actual\"])"
   ]
  },
  {
   "cell_type": "code",
   "execution_count": 27,
   "metadata": {},
   "outputs": [
    {
     "name": "stdout",
     "output_type": "stream",
     "text": [
      "Estamos en el año:  2024\n"
     ]
    }
   ],
   "source": [
    "funcion(año_pasado = 2023, año_actual = 2024, año_siguiente = 2025, cualquier_otro_año = 2005)"
   ]
  },
  {
   "cell_type": "code",
   "execution_count": 28,
   "metadata": {},
   "outputs": [],
   "source": [
    "def funcion(**kargs):\n",
    "\n",
    "    for key, arg in kargs.items():\n",
    "        print(key, \" -> \", arg)"
   ]
  },
  {
   "cell_type": "code",
   "execution_count": 29,
   "metadata": {},
   "outputs": [
    {
     "name": "stdout",
     "output_type": "stream",
     "text": [
      "año_pasado  ->  2023\n",
      "año_actual  ->  2024\n",
      "año_siguiente  ->  2025\n"
     ]
    }
   ],
   "source": [
    "funcion(año_pasado = 2023, año_actual = 2024, año_siguiente = 2025)"
   ]
  },
  {
   "cell_type": "markdown",
   "metadata": {},
   "source": [
    "### Argumentos por defecto\n",
    "\n",
    "Es posible especificar que valor por defecto queremos en un argumento."
   ]
  },
  {
   "cell_type": "code",
   "execution_count": 30,
   "metadata": {},
   "outputs": [],
   "source": [
    "def funcion(edad = 20):\n",
    "\n",
    "    print(\"Mi edad es\", edad, \"años\")"
   ]
  },
  {
   "cell_type": "code",
   "execution_count": 31,
   "metadata": {},
   "outputs": [
    {
     "name": "stdout",
     "output_type": "stream",
     "text": [
      "Mi edad es 20 años\n",
      "Mi edad es 15 años\n",
      "Mi edad es 30 años\n"
     ]
    }
   ],
   "source": [
    "funcion()\n",
    "funcion(15)\n",
    "funcion(30)"
   ]
  },
  {
   "cell_type": "code",
   "execution_count": 37,
   "metadata": {},
   "outputs": [
    {
     "name": "stdout",
     "output_type": "stream",
     "text": [
      "2\n"
     ]
    }
   ],
   "source": [
    "def funcion(x, y = 2):\n",
    "\n",
    "    print(x**y)\n",
    "\n",
    "funcion(x = 2, y = 1)"
   ]
  },
  {
   "cell_type": "markdown",
   "metadata": {},
   "source": [
    "## Restringir el tipo de argumentos que se pueden pasar a la función\n",
    "\n",
    "Podemos restringir una funcion a que solo permita argumentos posicionales, es decir, en orden."
   ]
  },
  {
   "cell_type": "code",
   "execution_count": 38,
   "metadata": {},
   "outputs": [],
   "source": [
    "def funcion(x, y, /):\n",
    "\n",
    "    print(\"La posición en x es: \", x)\n",
    "    print(\"La posición en y es: \", y)"
   ]
  },
  {
   "cell_type": "code",
   "execution_count": 39,
   "metadata": {},
   "outputs": [
    {
     "name": "stdout",
     "output_type": "stream",
     "text": [
      "La posición en x es:  2\n",
      "La posición en y es:  4\n"
     ]
    }
   ],
   "source": [
    "funcion(2, 4)"
   ]
  },
  {
   "cell_type": "code",
   "execution_count": 40,
   "metadata": {},
   "outputs": [
    {
     "name": "stdout",
     "output_type": "stream",
     "text": [
      "Ha ocurrido un error:\n",
      "funcion() got some positional-only arguments passed as keyword arguments: 'x, y'\n"
     ]
    }
   ],
   "source": [
    "try:\n",
    "    funcion(x = 2, y = 4)\n",
    "except Exception as e:\n",
    "    print(\"Ha ocurrido un error:\")\n",
    "    print(e)"
   ]
  },
  {
   "cell_type": "markdown",
   "metadata": {},
   "source": [
    "O restringir para que la función solo reciba argumentos con palabra clave."
   ]
  },
  {
   "cell_type": "code",
   "execution_count": 41,
   "metadata": {},
   "outputs": [],
   "source": [
    "def funcion(*, x, y):\n",
    "\n",
    "    print(\"La posición en x es: \", x)\n",
    "    print(\"La posición en y es: \", y)"
   ]
  },
  {
   "cell_type": "code",
   "execution_count": 42,
   "metadata": {},
   "outputs": [
    {
     "name": "stdout",
     "output_type": "stream",
     "text": [
      "La posición en x es:  2\n",
      "La posición en y es:  4\n"
     ]
    }
   ],
   "source": [
    "funcion(x = 2, y = 4)"
   ]
  },
  {
   "cell_type": "code",
   "execution_count": 44,
   "metadata": {},
   "outputs": [
    {
     "name": "stdout",
     "output_type": "stream",
     "text": [
      "Ha ocurrido un error:\n",
      "funcion() takes 0 positional arguments but 2 were given\n"
     ]
    }
   ],
   "source": [
    "try:\n",
    "    funcion(2, y = 4)\n",
    "except Exception as e:\n",
    "    print(\"Ha ocurrido un error:\")\n",
    "    print(e)"
   ]
  },
  {
   "cell_type": "markdown",
   "metadata": {},
   "source": [
    "Tambien es posible combinar ambos tipos de restricciones, es decir, podemos indicar cuales argumentos queremos que sean solo posicionales y cuáles queremos que sean con palabra clave."
   ]
  },
  {
   "cell_type": "code",
   "execution_count": 46,
   "metadata": {},
   "outputs": [],
   "source": [
    "def funcion(a, b, /, *, c, d):\n",
    "  \n",
    "  print(a + b + c + d)"
   ]
  },
  {
   "cell_type": "code",
   "execution_count": 47,
   "metadata": {},
   "outputs": [
    {
     "name": "stdout",
     "output_type": "stream",
     "text": [
      "23\n"
     ]
    }
   ],
   "source": [
    "funcion(2, 5, c = 9, d = 7)"
   ]
  },
  {
   "cell_type": "code",
   "execution_count": 48,
   "metadata": {},
   "outputs": [
    {
     "name": "stdout",
     "output_type": "stream",
     "text": [
      "Ha ocurrido un error:\n",
      "funcion() takes 2 positional arguments but 3 positional arguments (and 1 keyword-only argument) were given\n"
     ]
    }
   ],
   "source": [
    "try:\n",
    "    funcion(2, 5, 9, d = 7)\n",
    "except Exception as e:\n",
    "    print(\"Ha ocurrido un error:\")\n",
    "    print(e)"
   ]
  },
  {
   "cell_type": "markdown",
   "metadata": {},
   "source": [
    "## Funciones recursivas\n",
    "\n",
    "En python es posible tener funciones recursivas, es decir, una función que se llama asi misma. Al utilizar la técnica de recursion hay que tener cuidado con programar una función que se ejecute infinitamente (ciclo o bucle infinito)."
   ]
  },
  {
   "cell_type": "code",
   "execution_count": 49,
   "metadata": {},
   "outputs": [],
   "source": [
    "def factorial(x):\n",
    "\n",
    "    if x == 1:\n",
    "\n",
    "        resultado = 1\n",
    "\n",
    "    else:\n",
    "\n",
    "        resultado = x*factorial(x - 1)\n",
    "        print(resultado)\n",
    "\n",
    "    return resultado"
   ]
  },
  {
   "cell_type": "code",
   "execution_count": 53,
   "metadata": {},
   "outputs": [
    {
     "name": "stdout",
     "output_type": "stream",
     "text": [
      "2\n",
      "6\n",
      "El factorial de 3 es 6\n"
     ]
    }
   ],
   "source": [
    "x = 3\n",
    "resultado = factorial(x)\n",
    "print(\"El factorial de\", x, \"es\", resultado)"
   ]
  }
 ],
 "metadata": {
  "kernelspec": {
   "display_name": "Python 3",
   "language": "python",
   "name": "python3"
  },
  "language_info": {
   "codemirror_mode": {
    "name": "ipython",
    "version": 3
   },
   "file_extension": ".py",
   "mimetype": "text/x-python",
   "name": "python",
   "nbconvert_exporter": "python",
   "pygments_lexer": "ipython3",
   "version": "3.9.13"
  }
 },
 "nbformat": 4,
 "nbformat_minor": 2
}
