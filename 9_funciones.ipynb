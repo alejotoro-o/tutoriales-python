{
 "cells": [
  {
   "cell_type": "markdown",
   "metadata": {},
   "source": [
    "# Funciones en Python\n",
    "\n",
    "Las funciones son uno de los conceptos más fundamentales en cualquier lenguaje de programación, estas permiten ejecutar un segmento de codigo solo cuando es llamado. Teniendo esto en cuenta, las funciones permiten reutilizar codigo haciendo mas legible y eficiente nuestra aplicación."
   ]
  },
  {
   "cell_type": "markdown",
   "metadata": {},
   "source": [
    "Las funciones pueden simplemente ejecutar un código cuando son llamadas,"
   ]
  },
  {
   "cell_type": "code",
   "execution_count": 513,
   "metadata": {},
   "outputs": [],
   "source": [
    "def mi_funcion():\n",
    "\n",
    "    print(\"Esta es una función\")"
   ]
  },
  {
   "cell_type": "code",
   "execution_count": 514,
   "metadata": {},
   "outputs": [
    {
     "name": "stdout",
     "output_type": "stream",
     "text": [
      "Esta es una función\n"
     ]
    }
   ],
   "source": [
    "mi_funcion()"
   ]
  },
  {
   "cell_type": "markdown",
   "metadata": {},
   "source": [
    "o tambien permiten retornar una variable,"
   ]
  },
  {
   "cell_type": "code",
   "execution_count": 515,
   "metadata": {},
   "outputs": [],
   "source": [
    "def mi_funcion():\n",
    "\n",
    "    texto = \"Esta es una función\"\n",
    "\n",
    "    return texto"
   ]
  },
  {
   "cell_type": "code",
   "execution_count": 516,
   "metadata": {},
   "outputs": [
    {
     "name": "stdout",
     "output_type": "stream",
     "text": [
      "Esta es una función\n"
     ]
    }
   ],
   "source": [
    "texto = mi_funcion()\n",
    "print(texto)"
   ]
  },
  {
   "cell_type": "markdown",
   "metadata": {},
   "source": [
    "## Argumentos\n",
    "\n",
    "Es posible pasar información a nuestras funciones a modo de argumentos. Estos se especifican dentro del parentesis de nuestra declaración y se separan por comas."
   ]
  },
  {
   "cell_type": "code",
   "execution_count": 517,
   "metadata": {},
   "outputs": [],
   "source": [
    "def funcion(nombre):\n",
    "\n",
    "    print(\"Mi nombre es: \", nombre)"
   ]
  },
  {
   "cell_type": "code",
   "execution_count": 518,
   "metadata": {},
   "outputs": [
    {
     "name": "stdout",
     "output_type": "stream",
     "text": [
      "Mi nombre es:  Ossaba\n",
      "Mi nombre es:  Santiago\n",
      "Mi nombre es:  Andrea\n"
     ]
    }
   ],
   "source": [
    "funcion(\"Ossaba\")\n",
    "funcion(\"Santiago\")\n",
    "funcion(\"Andrea\")"
   ]
  },
  {
   "cell_type": "markdown",
   "metadata": {},
   "source": [
    "Es posible pasar multiples argumentos a una función, lo importante es siempre llamar la función con el número correcto de argumentos."
   ]
  },
  {
   "cell_type": "code",
   "execution_count": 519,
   "metadata": {},
   "outputs": [],
   "source": [
    "def suma(a, b):\n",
    "\n",
    "    resultado = a + b\n",
    "\n",
    "    return resultado"
   ]
  },
  {
   "cell_type": "code",
   "execution_count": 520,
   "metadata": {},
   "outputs": [
    {
     "name": "stdout",
     "output_type": "stream",
     "text": [
      "5\n"
     ]
    }
   ],
   "source": [
    "resultado = suma(2, 3)\n",
    "print(resultado)"
   ]
  },
  {
   "cell_type": "code",
   "execution_count": 521,
   "metadata": {},
   "outputs": [
    {
     "name": "stdout",
     "output_type": "stream",
     "text": [
      "Ha ocurrido un error:\n",
      "suma() missing 1 required positional argument: 'b'\n"
     ]
    }
   ],
   "source": [
    "try:\n",
    "    resultado = suma(1)\n",
    "except Exception as e:\n",
    "    print(\"Ha ocurrido un error:\")\n",
    "    print(e)"
   ]
  },
  {
   "cell_type": "markdown",
   "metadata": {},
   "source": [
    "### Argumentos arbitrarios\n",
    "\n",
    "Es posible definir funciones que pueden recibir cualquier cantidad de parametros."
   ]
  },
  {
   "cell_type": "code",
   "execution_count": 522,
   "metadata": {},
   "outputs": [],
   "source": [
    "def funcion(*args):\n",
    "\n",
    "    print(\"El estudiante favorito es: \", args[1])"
   ]
  },
  {
   "cell_type": "code",
   "execution_count": 523,
   "metadata": {},
   "outputs": [
    {
     "name": "stdout",
     "output_type": "stream",
     "text": [
      "El estudiante favorito es:  Alejandro\n"
     ]
    }
   ],
   "source": [
    "funcion(\"Simon\", \"Alejandro\", \"Sara\")"
   ]
  },
  {
   "cell_type": "code",
   "execution_count": 524,
   "metadata": {},
   "outputs": [],
   "source": [
    "def funcion(*args):\n",
    "\n",
    "    for arg in args:\n",
    "        print(arg)"
   ]
  },
  {
   "cell_type": "code",
   "execution_count": 525,
   "metadata": {},
   "outputs": [
    {
     "name": "stdout",
     "output_type": "stream",
     "text": [
      "Simon\n",
      "Alejandro\n",
      "Sara\n"
     ]
    }
   ],
   "source": [
    "funcion(\"Simon\", \"Alejandro\", \"Sara\")"
   ]
  },
  {
   "cell_type": "markdown",
   "metadata": {},
   "source": [
    "### Argumentos con palabra clave (Keyword arguments)\n",
    "\n",
    "Podemos especificar argumentos utilizando una sintaxis de key-value pairs. Esto permite pasar argumentos teniendo en cuenta la palabra clave y no el orden."
   ]
  },
  {
   "cell_type": "code",
   "execution_count": 526,
   "metadata": {},
   "outputs": [],
   "source": [
    "def funcion(nombre1, nombre2, nombre3):\n",
    "\n",
    "    print(\"El ganador es: \", nombre3)"
   ]
  },
  {
   "cell_type": "code",
   "execution_count": 527,
   "metadata": {},
   "outputs": [
    {
     "name": "stdout",
     "output_type": "stream",
     "text": [
      "El ganador es:  Miguel\n"
     ]
    }
   ],
   "source": [
    "funcion(\"Catalina\", \"Andrea\", \"Miguel\") ## Si no especificamos las palabras clave el orden de los argumentos importa"
   ]
  },
  {
   "cell_type": "code",
   "execution_count": 528,
   "metadata": {},
   "outputs": [
    {
     "name": "stdout",
     "output_type": "stream",
     "text": [
      "El ganador es:  Andrea\n"
     ]
    }
   ],
   "source": [
    "funcion(nombre2 = \"Catalina\", nombre3 = \"Andrea\", nombre1 = \"Miguel\")"
   ]
  },
  {
   "cell_type": "markdown",
   "metadata": {},
   "source": [
    "### Argumentos arbitrarios con palabras clave\n",
    "\n",
    "Al igual que para los argumentos basicos, podemos definir argumentos arbitrarios con palabras clave con la sintaxis key-value pairs."
   ]
  },
  {
   "cell_type": "code",
   "execution_count": 529,
   "metadata": {},
   "outputs": [],
   "source": [
    "def funcion(**kargs):\n",
    "\n",
    "    print(\"Estamos en el año: \", kargs[\"año_actual\"])"
   ]
  },
  {
   "cell_type": "code",
   "execution_count": 530,
   "metadata": {},
   "outputs": [
    {
     "name": "stdout",
     "output_type": "stream",
     "text": [
      "Estamos en el año:  2024\n"
     ]
    }
   ],
   "source": [
    "funcion(año_pasado = 2023, año_actual = 2024, año_siguiente = 2025)"
   ]
  },
  {
   "cell_type": "code",
   "execution_count": 531,
   "metadata": {},
   "outputs": [],
   "source": [
    "def funcion(**kargs):\n",
    "\n",
    "    for key, arg in kargs.items():\n",
    "        print(key, \" -> \", arg)"
   ]
  },
  {
   "cell_type": "code",
   "execution_count": 532,
   "metadata": {},
   "outputs": [
    {
     "name": "stdout",
     "output_type": "stream",
     "text": [
      "año_pasado  ->  2023\n",
      "año_actual  ->  2024\n",
      "año_siguiente  ->  2025\n"
     ]
    }
   ],
   "source": [
    "funcion(año_pasado = 2023, año_actual = 2024, año_siguiente = 2025)"
   ]
  },
  {
   "cell_type": "markdown",
   "metadata": {},
   "source": [
    "### Argumentos por defecto\n",
    "\n",
    "Es posible especificar que valor por defecto queremos en un argumento."
   ]
  },
  {
   "cell_type": "code",
   "execution_count": 533,
   "metadata": {},
   "outputs": [],
   "source": [
    "def funcion(edad = 20):\n",
    "\n",
    "    print(\"Mi edad es\", edad, \"años\")"
   ]
  },
  {
   "cell_type": "code",
   "execution_count": 534,
   "metadata": {},
   "outputs": [
    {
     "name": "stdout",
     "output_type": "stream",
     "text": [
      "Mi edad es 20 años\n",
      "Mi edad es 15 años\n",
      "Mi edad es 30 años\n"
     ]
    }
   ],
   "source": [
    "funcion()\n",
    "funcion(15)\n",
    "funcion(30)"
   ]
  },
  {
   "cell_type": "markdown",
   "metadata": {},
   "source": [
    "## Restringir el tipo de argumentos que se pueden pasar a la función\n",
    "\n",
    "Podemos restringir una funcion a que solo permita argumentos posicionales, es decir, en orden."
   ]
  },
  {
   "cell_type": "code",
   "execution_count": 535,
   "metadata": {},
   "outputs": [],
   "source": [
    "def funcion(x, y, /):\n",
    "\n",
    "    print(\"La posición en x es: \", x)\n",
    "    print(\"La posición en y es: \", y)"
   ]
  },
  {
   "cell_type": "code",
   "execution_count": 536,
   "metadata": {},
   "outputs": [
    {
     "name": "stdout",
     "output_type": "stream",
     "text": [
      "La posición en x es:  2\n",
      "La posición en y es:  4\n"
     ]
    }
   ],
   "source": [
    "funcion(2, 4)"
   ]
  },
  {
   "cell_type": "code",
   "execution_count": 537,
   "metadata": {},
   "outputs": [
    {
     "name": "stdout",
     "output_type": "stream",
     "text": [
      "Ha ocurrido un error:\n",
      "funcion() got some positional-only arguments passed as keyword arguments: 'x, y'\n"
     ]
    }
   ],
   "source": [
    "try:\n",
    "    funcion(x = 2, y = 4)\n",
    "except Exception as e:\n",
    "    print(\"Ha ocurrido un error:\")\n",
    "    print(e)"
   ]
  },
  {
   "cell_type": "markdown",
   "metadata": {},
   "source": [
    "O restringir para que la función solo reciba argumentos con palabra clave."
   ]
  },
  {
   "cell_type": "code",
   "execution_count": 538,
   "metadata": {},
   "outputs": [],
   "source": [
    "def funcion(*, x, y):\n",
    "\n",
    "    print(\"La posición en x es: \", x)\n",
    "    print(\"La posición en y es: \", y)"
   ]
  },
  {
   "cell_type": "code",
   "execution_count": 539,
   "metadata": {},
   "outputs": [
    {
     "name": "stdout",
     "output_type": "stream",
     "text": [
      "La posición en x es:  2\n",
      "La posición en y es:  4\n"
     ]
    }
   ],
   "source": [
    "funcion(x = 2, y = 4)"
   ]
  },
  {
   "cell_type": "code",
   "execution_count": 540,
   "metadata": {},
   "outputs": [
    {
     "name": "stdout",
     "output_type": "stream",
     "text": [
      "Ha ocurrido un error:\n",
      "funcion() takes 0 positional arguments but 1 positional argument (and 1 keyword-only argument) were given\n"
     ]
    }
   ],
   "source": [
    "try:\n",
    "    funcion(2, y = 4)\n",
    "except Exception as e:\n",
    "    print(\"Ha ocurrido un error:\")\n",
    "    print(e)"
   ]
  },
  {
   "cell_type": "markdown",
   "metadata": {},
   "source": [
    "Tambien es posible combinar ambos tipos de restricciones, es decir, podemos indicar cuales argumentos queremos que sean solo posicionales y cuáles queremos que sean con palabra clave."
   ]
  },
  {
   "cell_type": "code",
   "execution_count": 541,
   "metadata": {},
   "outputs": [],
   "source": [
    "def funcion(a, b, /, *, c, d):\n",
    "  \n",
    "  print(a + b + c + d)"
   ]
  },
  {
   "cell_type": "code",
   "execution_count": 542,
   "metadata": {},
   "outputs": [
    {
     "name": "stdout",
     "output_type": "stream",
     "text": [
      "23\n"
     ]
    }
   ],
   "source": [
    "funcion(2, 5, c = 9, d = 7)"
   ]
  },
  {
   "cell_type": "code",
   "execution_count": 543,
   "metadata": {},
   "outputs": [
    {
     "name": "stdout",
     "output_type": "stream",
     "text": [
      "Ha ocurrido un error:\n",
      "funcion() takes 2 positional arguments but 3 positional arguments (and 1 keyword-only argument) were given\n"
     ]
    }
   ],
   "source": [
    "try:\n",
    "    funcion(2, 5, 9, d = 7)\n",
    "except Exception as e:\n",
    "    print(\"Ha ocurrido un error:\")\n",
    "    print(e)"
   ]
  },
  {
   "cell_type": "markdown",
   "metadata": {},
   "source": [
    "## Funciones recursivas\n",
    "\n",
    "En python es posible tener funciones recursivas, es decir, una función que se llama asi misma. Al utilizar la técnica de recursion hay que tener cuidado con programar una función que se ejecute infinitamente (ciclo o bucle infinito)."
   ]
  },
  {
   "cell_type": "code",
   "execution_count": 544,
   "metadata": {},
   "outputs": [],
   "source": [
    "def factorial(x):\n",
    "\n",
    "    if x == 1:\n",
    "\n",
    "        resultado = 1\n",
    "\n",
    "    else:\n",
    "\n",
    "        resultado = x*factorial(x - 1)\n",
    "        print(resultado)\n",
    "\n",
    "    return resultado"
   ]
  },
  {
   "cell_type": "code",
   "execution_count": 545,
   "metadata": {},
   "outputs": [
    {
     "name": "stdout",
     "output_type": "stream",
     "text": [
      "2\n",
      "6\n",
      "El factorial de 3 es 6\n"
     ]
    }
   ],
   "source": [
    "x = 3\n",
    "resultado = factorial(x)\n",
    "print(\"El factorial de\", x, \"es\", resultado)"
   ]
  }
 ],
 "metadata": {
  "kernelspec": {
   "display_name": "Python 3",
   "language": "python",
   "name": "python3"
  },
  "language_info": {
   "codemirror_mode": {
    "name": "ipython",
    "version": 3
   },
   "file_extension": ".py",
   "mimetype": "text/x-python",
   "name": "python",
   "nbconvert_exporter": "python",
   "pygments_lexer": "ipython3",
   "version": "3.9.13"
  }
 },
 "nbformat": 4,
 "nbformat_minor": 2
}
