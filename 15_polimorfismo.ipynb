{
 "cells": [
  {
   "cell_type": "markdown",
   "metadata": {},
   "source": [
    "# Polimorfismo - Programación Orientada a Objetos (POO) en Python\n",
    "\n",
    "El polimorfismo hace referencia a la capacidad que pueden tener los objetos para presentar comportamientos diferentes, asociados a diferentes objetos, pero con un mismo nombre. De esta forma, al llamar ese nombre el comportamiento estara determinado por el objeto que se este usando. En otras palabras, el polimorfismo se refiere a métodos/funciones/operadores con el mismo nombre que pueden ejecutarse en muchos objetos o clases y presentan comportamientos diferentes."
   ]
  },
  {
   "cell_type": "code",
   "execution_count": 3,
   "metadata": {},
   "outputs": [],
   "source": [
    "from abc import ABC, abstractmethod\n",
    "\n",
    "class Vehiculo(ABC):\n",
    "\n",
    "    def __init__(self, marca, modelo):\n",
    "\n",
    "        self.marca = marca\n",
    "        self.modelo = modelo\n",
    "\n",
    "    @abstractmethod\n",
    "    def mover(self):\n",
    "        pass\n",
    "\n",
    "class Carro(Vehiculo):\n",
    "\n",
    "    def mover(self):\n",
    "        print(\"Rodando\")\n",
    "\n",
    "class Barco(Vehiculo):\n",
    "\n",
    "    def mover(self):\n",
    "        print(\"Navegando\")\n",
    "\n",
    "class Avion(Vehiculo):\n",
    "\n",
    "    def mover(self):\n",
    "        print(\"Volando\")"
   ]
  },
  {
   "cell_type": "code",
   "execution_count": 4,
   "metadata": {},
   "outputs": [
    {
     "name": "stdout",
     "output_type": "stream",
     "text": [
      "Rodando\n",
      "Navegando\n",
      "Volando\n"
     ]
    }
   ],
   "source": [
    "carro = Carro(\"Volkswagen\", \"Golf\")\n",
    "barco = Barco(\"Ibiza\", \"Touring 20\")\n",
    "avion = Avion(\"Airbus\", \"A320\")\n",
    "\n",
    "carro.mover()\n",
    "barco.mover()\n",
    "avion.mover()"
   ]
  },
  {
   "cell_type": "markdown",
   "metadata": {},
   "source": [
    "Otro ejemplo."
   ]
  },
  {
   "cell_type": "code",
   "execution_count": 5,
   "metadata": {},
   "outputs": [],
   "source": [
    "from abc import ABC, abstractmethod\n",
    "\n",
    "class Animal(ABC):\n",
    "\n",
    "    @abstractmethod\n",
    "    def saludar(self):\n",
    "        pass\n",
    "\n",
    "class Humano(Animal):\n",
    "\n",
    "    def saludar(self):\n",
    "        print(\"Hola\")\n",
    "\n",
    "class Perro(Animal):\n",
    "\n",
    "    def saludar(self):\n",
    "        print(\"Woof\")\n",
    "\n",
    "class Gato(Animal):\n",
    "\n",
    "    def saludar(self):\n",
    "        print(\"Meow\")"
   ]
  },
  {
   "cell_type": "code",
   "execution_count": 6,
   "metadata": {},
   "outputs": [
    {
     "name": "stdout",
     "output_type": "stream",
     "text": [
      "Hola\n",
      "Woof\n",
      "Meow\n"
     ]
    }
   ],
   "source": [
    "h = Humano()\n",
    "p = Perro()\n",
    "g = Gato()\n",
    "\n",
    "h.saludar()\n",
    "p.saludar()\n",
    "g.saludar()"
   ]
  }
 ],
 "metadata": {
  "kernelspec": {
   "display_name": "Python 3",
   "language": "python",
   "name": "python3"
  },
  "language_info": {
   "codemirror_mode": {
    "name": "ipython",
    "version": 3
   },
   "file_extension": ".py",
   "mimetype": "text/x-python",
   "name": "python",
   "nbconvert_exporter": "python",
   "pygments_lexer": "ipython3",
   "version": "3.9.13"
  }
 },
 "nbformat": 4,
 "nbformat_minor": 2
}
