{
 "cells": [
  {
   "cell_type": "markdown",
   "metadata": {},
   "source": [
    "# Variables y Tipos en Python"
   ]
  },
  {
   "cell_type": "markdown",
   "metadata": {},
   "source": [
    "## Definición de Variables"
   ]
  },
  {
   "cell_type": "code",
   "execution_count": 57,
   "metadata": {},
   "outputs": [
    {
     "name": "stdout",
     "output_type": "stream",
     "text": [
      "Hola\n"
     ]
    }
   ],
   "source": [
    "var = \"Hola\"\n",
    "\n",
    "print(var)"
   ]
  },
  {
   "cell_type": "markdown",
   "metadata": {},
   "source": [
    "Imprimir la direccion de memoria de la variable"
   ]
  },
  {
   "cell_type": "code",
   "execution_count": 52,
   "metadata": {},
   "outputs": [
    {
     "name": "stdout",
     "output_type": "stream",
     "text": [
      "1666487431536\n"
     ]
    }
   ],
   "source": [
    "print(id(var))"
   ]
  },
  {
   "cell_type": "markdown",
   "metadata": {},
   "source": [
    "Eliminar la variable"
   ]
  },
  {
   "cell_type": "code",
   "execution_count": 58,
   "metadata": {},
   "outputs": [
    {
     "name": "stdout",
     "output_type": "stream",
     "text": [
      "La variable no existe\n"
     ]
    }
   ],
   "source": [
    "del var\n",
    "\n",
    "try:\n",
    "    print(var)\n",
    "except:\n",
    "    print(\"La variable no existe\")"
   ]
  },
  {
   "cell_type": "markdown",
   "metadata": {},
   "source": [
    "Las variables son sensibles a las letras mayusculas"
   ]
  },
  {
   "cell_type": "code",
   "execution_count": 59,
   "metadata": {},
   "outputs": [
    {
     "name": "stdout",
     "output_type": "stream",
     "text": [
      "age =  20\n",
      "Age =  30\n"
     ]
    }
   ],
   "source": [
    "age = 20\n",
    "Age = 30\n",
    "\n",
    "print(\"age = \", age)\n",
    "print(\"Age = \", Age)"
   ]
  },
  {
   "cell_type": "markdown",
   "metadata": {},
   "source": [
    "Es posible asignar el mismo valor a varias variables en una sola linea"
   ]
  },
  {
   "cell_type": "code",
   "execution_count": 60,
   "metadata": {},
   "outputs": [
    {
     "name": "stdout",
     "output_type": "stream",
     "text": [
      "a =  1\n",
      "b =  1\n",
      "c =  1\n"
     ]
    }
   ],
   "source": [
    "a = b = c = 1\n",
    "\n",
    "print(\"a = \", a)\n",
    "print(\"b = \", b)\n",
    "print(\"c = \", c)"
   ]
  },
  {
   "cell_type": "markdown",
   "metadata": {},
   "source": [
    "Es posible asignar valores a diferentes variables en una sola linea"
   ]
  },
  {
   "cell_type": "code",
   "execution_count": 62,
   "metadata": {},
   "outputs": [
    {
     "name": "stdout",
     "output_type": "stream",
     "text": [
      "a =  1\n",
      "b =  True\n",
      "c =  Hola\n"
     ]
    }
   ],
   "source": [
    "a, b, c = 1, True, \"Hola\"\n",
    "\n",
    "print(\"a = \", a)\n",
    "print(\"b = \", b)\n",
    "print(\"c = \", c)"
   ]
  },
  {
   "cell_type": "markdown",
   "metadata": {},
   "source": [
    "## Patrones de Definición de Variables"
   ]
  },
  {
   "cell_type": "markdown",
   "metadata": {},
   "source": [
    "Los patrones para el nombramiento de variables constituyen una buena practica y permiten generar codigo más legible"
   ]
  },
  {
   "cell_type": "code",
   "execution_count": null,
   "metadata": {},
   "outputs": [],
   "source": [
    "camelCase = 1 ## Came Case -> nombreNombre\n",
    "PascalCase = 1 ## Pascal Case -> NombreNombre\n",
    "snake_case = 1 ## Snake Case -> nombre_nombre"
   ]
  },
  {
   "cell_type": "markdown",
   "metadata": {},
   "source": [
    "## Tipos de Variables"
   ]
  },
  {
   "cell_type": "code",
   "execution_count": 63,
   "metadata": {},
   "outputs": [
    {
     "name": "stdout",
     "output_type": "stream",
     "text": [
      "none_var = None -> Tipo = <class 'NoneType'>\n",
      "str_var = Hola Mundo -> Tipo = <class 'str'>\n",
      "int_var = 1 -> Tipo = <class 'int'>\n",
      "float_var = 1.0 -> Tipo = <class 'float'>\n",
      "complex_var = 1j -> Tipo = <class 'complex'>\n",
      "bool_var = True -> Tipo = <class 'bool'>\n",
      "list_var = [1, 2, 3, 4] -> Tipo = <class 'list'>\n",
      "tuple_var = (1, 2, 3, 4) -> Tipo = <class 'tuple'>\n",
      "range_var = range(0, 4) -> Tipo = <class 'range'>\n",
      "dict_var = {'nombre': 'A', 'edad': 20} -> Tipo = <class 'dict'>\n",
      "set_var = {1, 2, 3, 4} -> Tipo = <class 'set'>\n",
      "fset_var = frozenset({1, 2, 3, 4}) -> Tipo = <class 'frozenset'>\n",
      "byte_var = b'Hola' -> Tipo = <class 'bytes'>\n",
      "barray_var = bytearray(b'\\x00\\x00\\x00\\x00') -> Tipo = <class 'bytearray'>\n",
      "mv_var = <memory at 0x0000018402531AC0> -> Tipo = <class 'memoryview'>\n"
     ]
    }
   ],
   "source": [
    "none_var = None\n",
    "str_var = \"Hola Mundo\"\n",
    "int_var = 1\n",
    "float_var = 1.0\n",
    "complex_var = 1j\n",
    "bool_var = True\n",
    "list_var = [1,2,3,4]\n",
    "tuple_var = (1,2,3,4)\n",
    "range_var = range(4)\n",
    "dict_var = {\"nombre\": \"A\", \"edad\": 20}\n",
    "set_var = {1,2,3,4}\n",
    "fset_var = frozenset({1,2,3,4})\n",
    "byte_var = b\"Hola\"\n",
    "barray_var = bytearray(4)\n",
    "mv_var = memoryview(bytes(4))\n",
    "\n",
    "print(\"none_var = %s -> Tipo = %s\" % (none_var, type(none_var)))\n",
    "print(\"str_var = %s -> Tipo = %s\" % (str_var, type(str_var)))\n",
    "print(\"int_var = %s -> Tipo = %s\" % (int_var, type(int_var)))\n",
    "print(\"float_var = %s -> Tipo = %s\" % (float_var, type(float_var)))\n",
    "print(\"complex_var = %s -> Tipo = %s\" % (complex_var, type(complex_var)))\n",
    "print(\"bool_var = %s -> Tipo = %s\" % (bool_var, type(bool_var)))\n",
    "print(\"list_var = %s -> Tipo = %s\" % (list_var, type(list_var)))\n",
    "print(\"tuple_var = %s -> Tipo = %s\" % (tuple_var, type(tuple_var)))\n",
    "print(\"range_var = %s -> Tipo = %s\" % (range_var, type(range_var)))\n",
    "print(\"dict_var = %s -> Tipo = %s\" % (dict_var, type(dict_var)))\n",
    "print(\"set_var = %s -> Tipo = %s\" % (set_var, type(set_var)))\n",
    "print(\"fset_var = %s -> Tipo = %s\" % (fset_var, type(fset_var)))\n",
    "print(\"byte_var = %s -> Tipo = %s\" % (byte_var, type(byte_var)))\n",
    "print(\"barray_var = %s -> Tipo = %s\" % (barray_var, type(barray_var)))\n",
    "print(\"mv_var = %s -> Tipo = %s\" % (mv_var, type(mv_var)))"
   ]
  },
  {
   "cell_type": "markdown",
   "metadata": {},
   "source": [
    "## Especificar Tipo de Variable"
   ]
  },
  {
   "cell_type": "markdown",
   "metadata": {},
   "source": [
    "Es posible especificar que tipo queremos usar cuando definimos una variable"
   ]
  },
  {
   "cell_type": "code",
   "execution_count": 64,
   "metadata": {},
   "outputs": [
    {
     "name": "stdout",
     "output_type": "stream",
     "text": [
      "x = 1.0 -> Tipo = <class 'str'>\n",
      "x = 2.0 -> Tipo = <class 'float'>\n",
      "x = 2 -> Tipo = <class 'int'>\n",
      "x = [1, 2, 3, 4] -> Tipo = <class 'list'>\n"
     ]
    }
   ],
   "source": [
    "x = str(1.0)\n",
    "print(\"x = %s -> Tipo = %s\" % (x, type(x)))\n",
    "\n",
    "x = float(2)\n",
    "print(\"x = %s -> Tipo = %s\" % (x, type(x)))\n",
    "\n",
    "x = int(2.6)\n",
    "print(\"x = %s -> Tipo = %s\" % (x, type(x)))\n",
    "\n",
    "x = list((1,2,3,4))\n",
    "print(\"x = %s -> Tipo = %s\" % (x, type(x)))"
   ]
  }
 ],
 "metadata": {
  "kernelspec": {
   "display_name": "Python 3",
   "language": "python",
   "name": "python3"
  },
  "language_info": {
   "codemirror_mode": {
    "name": "ipython",
    "version": 3
   },
   "file_extension": ".py",
   "mimetype": "text/x-python",
   "name": "python",
   "nbconvert_exporter": "python",
   "pygments_lexer": "ipython3",
   "version": "3.9.13"
  }
 },
 "nbformat": 4,
 "nbformat_minor": 2
}
