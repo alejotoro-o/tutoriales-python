{
 "cells": [
  {
   "cell_type": "markdown",
   "metadata": {},
   "source": [
    "# Herencia - Programación Orientada a Objetos (POO) en Python\n",
    "\n",
    "La herencia es útil cuando se tienen objetos similares que comparten ciertos elementos en su lógica, pero tienen algunas diferencias. La herencia permite crear una clase (hija) derivada de otra clase (padre) de forma de que la clase hija comparte los atributos y métodos de la clase padre y ademas puede implementar atributos y métodos nuevos. Este concepto permite generar una jerarquia entre clases que comparten caracteristicas. \n",
    "\n",
    "Clase Padre ------> Clase Hija ------> Clase Hija 2  \n",
    "$~~~~~~~~~~~~~~~~~~$|  \n",
    "$~~~~~~~~~~~~~~~~~~$|-----> Clase Hija  "
   ]
  },
  {
   "cell_type": "code",
   "execution_count": 2,
   "metadata": {},
   "outputs": [
    {
     "name": "stdout",
     "output_type": "stream",
     "text": [
      "Alejandro\n"
     ]
    }
   ],
   "source": [
    "class Persona():\n",
    "\n",
    "    def __init__(self, nombre):\n",
    "\n",
    "        self.nombre = nombre\n",
    "\n",
    "    def mostrar_nombre(self):\n",
    "\n",
    "        print(self.nombre)\n",
    "\n",
    "p = Persona(\"Alejandro\")\n",
    "p.mostrar_nombre()"
   ]
  },
  {
   "cell_type": "code",
   "execution_count": 3,
   "metadata": {},
   "outputs": [
    {
     "name": "stdout",
     "output_type": "stream",
     "text": [
      "Alejandro - Gerente - 1234\n",
      "Alejandro\n"
     ]
    }
   ],
   "source": [
    "class Empleado(Persona):\n",
    "\n",
    "    def __init__(self, nombre, cargo, id):\n",
    "\n",
    "        super().__init__(nombre)\n",
    "\n",
    "        self.cargo = cargo\n",
    "        self.id = id\n",
    "\n",
    "    def mostrar_datos_empleado(self):\n",
    "\n",
    "        print(self.nombre, \"-\", self.cargo, \"-\", self.id)\n",
    "\n",
    "e = Empleado(\"Alejandro\", \"Gerente\", 1234)\n",
    "\n",
    "e.mostrar_datos_empleado()\n",
    "e.mostrar_nombre()"
   ]
  },
  {
   "cell_type": "markdown",
   "metadata": {},
   "source": [
    "## Herencia Multinivel"
   ]
  },
  {
   "cell_type": "code",
   "execution_count": 8,
   "metadata": {},
   "outputs": [],
   "source": [
    "class A():\n",
    "\n",
    "    def __init__(self):\n",
    "\n",
    "        self.a = \"Clase A\"\n",
    "\n",
    "class B():\n",
    "\n",
    "    def __init__(self):\n",
    "\n",
    "        self.b = \"Clase B\"\n",
    "\n",
    "class AB(A, B):\n",
    "\n",
    "    def __init__(self):\n",
    "\n",
    "        ## super().__init_(self) solamente va a invocar el constructor de la primera herencia, de la clase A\n",
    "        A.__init__(self)\n",
    "        B.__init__(self)\n",
    "\n",
    "        self.ab = \"Clase AB\"\n",
    "\n",
    "    def padres(self):\n",
    "\n",
    "        print(\"Los padres de la\", self.ab, \"son la\", self.a, \"y la\", self.b)"
   ]
  },
  {
   "cell_type": "code",
   "execution_count": 9,
   "metadata": {},
   "outputs": [
    {
     "name": "stdout",
     "output_type": "stream",
     "text": [
      "Clase A\n",
      "Clase B\n",
      "Los padres de la Clase AB son la Clase A y la Clase B\n"
     ]
    }
   ],
   "source": [
    "ab = AB()\n",
    "\n",
    "print(ab.a)\n",
    "print(ab.b)\n",
    "ab.padres()"
   ]
  },
  {
   "cell_type": "markdown",
   "metadata": {},
   "source": [
    "## Herencia Multiple"
   ]
  },
  {
   "cell_type": "code",
   "execution_count": 10,
   "metadata": {},
   "outputs": [],
   "source": [
    "class Persona():\n",
    "\n",
    "    def __init__(self, nombre):\n",
    "        self.nombre = nombre\n",
    "\n",
    "    def saludar(self):\n",
    "\n",
    "        print(\"Hola, mi nombre es:\", self.nombre)\n",
    "\n",
    "class Empleado(Persona):\n",
    "\n",
    "    def __init__(self, nombre, id):\n",
    "\n",
    "        super().__init__(nombre)\n",
    "\n",
    "        self.id = id\n",
    "\n",
    "    def mostrar_id(self):\n",
    "\n",
    "        print(\"Mi id es:\", self.id)\n",
    "\n",
    "class Gerente(Empleado):\n",
    "\n",
    "    def __init__(self, nombre, id, num_empleados):\n",
    "\n",
    "        super().__init__(nombre, id)\n",
    "\n",
    "        self.num_empleados = num_empleados\n",
    "\n",
    "    def numero_empleados(self):\n",
    "\n",
    "        print(\"Soy gerente y tengo\", self.num_empleados, \"empleados a cargo\")"
   ]
  },
  {
   "cell_type": "code",
   "execution_count": 12,
   "metadata": {},
   "outputs": [
    {
     "name": "stdout",
     "output_type": "stream",
     "text": [
      "Hola, mi nombre es: Alejandro\n",
      "Mi id es: 1234\n",
      "Soy gerente y tengo 10 a cargo\n"
     ]
    }
   ],
   "source": [
    "g = Gerente(\"Alejandro\", 1234, 10)\n",
    "\n",
    "g.saludar()\n",
    "g.mostrar_id()\n",
    "g.numero_empleados()"
   ]
  },
  {
   "cell_type": "markdown",
   "metadata": {},
   "source": [
    "## Clases Abstractas\n",
    "\n",
    "Las clases abstractas en Python se utilizan para definir una interfaz común para un grupo de subclases. Hacen que se implementen determinados métodos en cualquier subclase, lo que garantiza una API coherente y fomenta la reutilización del código. Las clases abstractas en sí mismas no se pueden instanciar y están destinadas a ser heredadas por otras clases que proporcionen implementaciones concretas de los métodos abstractos."
   ]
  },
  {
   "cell_type": "code",
   "execution_count": 13,
   "metadata": {},
   "outputs": [],
   "source": [
    "from abc import ABC, abstractmethod\n",
    "\n",
    "class Animal(ABC):\n",
    "\n",
    "    @abstractmethod\n",
    "    def saludar(self):\n",
    "        pass\n",
    "\n",
    "class Humano(Animal):\n",
    "\n",
    "    def saludar(self):\n",
    "        print(\"Hola\")\n",
    "\n",
    "class Perro(Animal):\n",
    "\n",
    "    def saludar(self):\n",
    "        print(\"Woof\")\n",
    "\n",
    "class Gato(Animal):\n",
    "\n",
    "    def saludar(self):\n",
    "        print(\"Meow\")\n",
    "\n",
    "class Leon(Animal):\n",
    "\n",
    "    def cazar(self):\n",
    "        \n",
    "        print(\"Cazando\")"
   ]
  },
  {
   "cell_type": "code",
   "execution_count": 14,
   "metadata": {},
   "outputs": [
    {
     "name": "stdout",
     "output_type": "stream",
     "text": [
      "Can't instantiate abstract class Animal with abstract method saludar\n"
     ]
    }
   ],
   "source": [
    "try:\n",
    "    a = Animal()\n",
    "except Exception as e:\n",
    "    print(e)"
   ]
  },
  {
   "cell_type": "code",
   "execution_count": 15,
   "metadata": {},
   "outputs": [
    {
     "name": "stdout",
     "output_type": "stream",
     "text": [
      "Hola\n",
      "Woof\n",
      "Meow\n"
     ]
    }
   ],
   "source": [
    "h = Humano()\n",
    "h.saludar()\n",
    "\n",
    "p = Perro()\n",
    "p.saludar()\n",
    "\n",
    "g = Gato()\n",
    "g.saludar()"
   ]
  },
  {
   "cell_type": "code",
   "execution_count": 16,
   "metadata": {},
   "outputs": [
    {
     "name": "stdout",
     "output_type": "stream",
     "text": [
      "Can't instantiate abstract class Leon with abstract method saludar\n"
     ]
    }
   ],
   "source": [
    "try:\n",
    "    l = Leon()\n",
    "except Exception as e:\n",
    "    print(e)"
   ]
  },
  {
   "cell_type": "code",
   "execution_count": 18,
   "metadata": {},
   "outputs": [],
   "source": [
    "class Leon(Animal):\n",
    "\n",
    "    def saludar(self):\n",
    "        print(\"Roar\")\n",
    "\n",
    "    def cazar(self):\n",
    "        \n",
    "        print(\"Cazando\")"
   ]
  },
  {
   "cell_type": "code",
   "execution_count": 19,
   "metadata": {},
   "outputs": [
    {
     "name": "stdout",
     "output_type": "stream",
     "text": [
      "Roar\n",
      "Cazando\n"
     ]
    }
   ],
   "source": [
    "l = Leon()\n",
    "\n",
    "l.saludar()\n",
    "l.cazar()"
   ]
  }
 ],
 "metadata": {
  "kernelspec": {
   "display_name": "Python 3",
   "language": "python",
   "name": "python3"
  },
  "language_info": {
   "codemirror_mode": {
    "name": "ipython",
    "version": 3
   },
   "file_extension": ".py",
   "mimetype": "text/x-python",
   "name": "python",
   "nbconvert_exporter": "python",
   "pygments_lexer": "ipython3",
   "version": "3.9.13"
  }
 },
 "nbformat": 4,
 "nbformat_minor": 2
}
