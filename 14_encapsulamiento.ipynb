{
 "cells": [
  {
   "cell_type": "markdown",
   "metadata": {},
   "source": [
    "## Encapsulamiento\n",
    "\n",
    "Variable protegida: _variable  \n",
    "Variable privada: __variable"
   ]
  },
  {
   "cell_type": "markdown",
   "metadata": {},
   "source": [
    "## Atributos"
   ]
  },
  {
   "cell_type": "markdown",
   "metadata": {},
   "source": [
    "## Métodos"
   ]
  },
  {
   "cell_type": "markdown",
   "metadata": {},
   "source": [
    "## Herencia"
   ]
  },
  {
   "cell_type": "code",
   "execution_count": null,
   "metadata": {},
   "outputs": [],
   "source": [
    "class A():\n",
    "    def __init__(self):\n",
    "        self.a = 1\n",
    "        # _b es una variable protegida\n",
    "        self._b = 2\n",
    "        # __c es una variable privada\n",
    "        self.__c = 3\n",
    "\n",
    "\n",
    "class B(A):\n",
    "    def __init__(self):\n",
    "\n",
    "        A.__init__(self)\n",
    "\n",
    "        self.d = 4\n",
    "\n",
    "    def mostrar_b(self):\n",
    "        print(self._b)\n",
    "\n",
    "    def mostrar_c(self):\n",
    "        print(self.__c)\n",
    "\n",
    "a = A()\n",
    "b = B()"
   ]
  },
  {
   "cell_type": "code",
   "execution_count": null,
   "metadata": {},
   "outputs": [
    {
     "name": "stdout",
     "output_type": "stream",
     "text": [
      "1\n",
      "2\n",
      "'A' object has no attribute '__c'\n"
     ]
    }
   ],
   "source": [
    "print(a.a)\n",
    "print(a._b)\n",
    "try:\n",
    "    print(a.__c)\n",
    "except Exception as e:\n",
    "    print(e)"
   ]
  },
  {
   "cell_type": "code",
   "execution_count": null,
   "metadata": {},
   "outputs": [
    {
     "name": "stdout",
     "output_type": "stream",
     "text": [
      "1\n",
      "2\n",
      "'B' object has no attribute '__c'\n",
      "4\n"
     ]
    }
   ],
   "source": [
    "print(b.a)\n",
    "print(b._b)\n",
    "try:\n",
    "    print(b.__c)\n",
    "except Exception as e:\n",
    "    print(e)\n",
    "print(b.d)"
   ]
  }
 ],
 "metadata": {
  "language_info": {
   "name": "python"
  }
 },
 "nbformat": 4,
 "nbformat_minor": 2
}
