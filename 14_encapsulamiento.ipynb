{
 "cells": [
  {
   "cell_type": "markdown",
   "metadata": {},
   "source": [
    "## Encapsulamiento - Programación Orientada a Objetos (POO) en Python\n",
    "\n",
    "El encapsulamiento hace referencia a mantener el estado del objeto de forma privada dentro de la clase, de forma que otros objetos no puedan acceder directamente al estado del objeto y solo tienen acceso a una lista publica de funciones (métodos).\n",
    "\n",
    "Existen 3 tipos de atributos y/o métodos:\n",
    "\n",
    "1. **Publico:** un atributo o método publico siempre puede ser accedido ya sea dentro o fuera de la clase. En python por defecto los atributos y métodos definidos en una clase son publicos.\n",
    "2. **Protegido:** un atributo o método protegido puede ser accedido dentro de la clase y por las subclases que hereden de la clase base. En python se utiliza un guion bajo antes de nombrar el atributo o método (ej. _atributo) para indicar que este es protegido. Sin embargo, que sea protegido no impide acceder a el fuera de la clase.\n",
    "3. **Privado:** un atributo o método privado solo puede ser accedido dentro de la clase. En python se utilizan dos guiones bajos antes de nombrar el atributo o método (ej. __atributo) para indicar que este es privado.\n",
    "\n",
    "Algunos desarrolladores argumentan que en python el encapsulamiento no es real, ya que como veremos a continuación, los atributos y métodos privados aun pueden ser accedidos por fuera de la clase. Sin embargo, vale destacar, que si bien el encapsulamiento en python es más una convención, este aún es valido como pilar de diseño en la programación orientada a objetos en python."
   ]
  },
  {
   "cell_type": "markdown",
   "metadata": {},
   "source": [
    "## Atributos"
   ]
  },
  {
   "cell_type": "code",
   "execution_count": 1,
   "metadata": {},
   "outputs": [],
   "source": [
    "class A():\n",
    "\n",
    "    def __init__(self):\n",
    "        \n",
    "        self.public = \"Este es un atributo publico\"\n",
    "        self._protected = \"Este es un atributo protegido\"\n",
    "        self.__private = \"Este es un atributo privado\""
   ]
  },
  {
   "cell_type": "code",
   "execution_count": 2,
   "metadata": {},
   "outputs": [
    {
     "name": "stdout",
     "output_type": "stream",
     "text": [
      "Este es un atributo publico\n",
      "Este es un atributo protegido\n",
      "'A' object has no attribute '__private'\n"
     ]
    }
   ],
   "source": [
    "a = A()\n",
    "\n",
    "print(a.public)\n",
    "print(a._protected)\n",
    "try:\n",
    "    print(a.__private)\n",
    "except Exception as e:\n",
    "    print(e)"
   ]
  },
  {
   "cell_type": "markdown",
   "metadata": {},
   "source": [
    "Es posible acceder al atributo privado ya que en realidad python lo unico que hace es crear un prefijo para evitar acceder a el por equivocación. Este prifijo tiene la siguiente estructura:\n",
    "\n",
    "_Clase__atributo"
   ]
  },
  {
   "cell_type": "code",
   "execution_count": 4,
   "metadata": {},
   "outputs": [
    {
     "name": "stdout",
     "output_type": "stream",
     "text": [
      "Este es un atributo privado\n"
     ]
    }
   ],
   "source": [
    "print(a._A__private)"
   ]
  },
  {
   "cell_type": "markdown",
   "metadata": {},
   "source": [
    "## Métodos"
   ]
  },
  {
   "cell_type": "code",
   "execution_count": 5,
   "metadata": {},
   "outputs": [],
   "source": [
    "class A():\n",
    "\n",
    "    def metodo_publico(self):\n",
    "        print(\"Este es un método publico\")\n",
    "\n",
    "    def _metodo_protegido(self):\n",
    "        print(\"Este es un método protegido\")\n",
    "\n",
    "    def __metodo_privado(self):\n",
    "        print(\"Este es un método privado\")"
   ]
  },
  {
   "cell_type": "code",
   "execution_count": 6,
   "metadata": {},
   "outputs": [
    {
     "name": "stdout",
     "output_type": "stream",
     "text": [
      "Este es un método publico\n",
      "Este es un método protegido\n",
      "'A' object has no attribute '__metodo_privado'\n"
     ]
    }
   ],
   "source": [
    "a = A()\n",
    "\n",
    "a.metodo_publico()\n",
    "a._metodo_protegido()\n",
    "try:\n",
    "    a.__metodo_privado()\n",
    "except Exception as e:\n",
    "    print(e)"
   ]
  },
  {
   "cell_type": "markdown",
   "metadata": {},
   "source": [
    "Al igual que con los atributos, el método privado aún puede ser accedido fuera de la clase utilizando el prefijo creado por python."
   ]
  },
  {
   "cell_type": "code",
   "execution_count": 7,
   "metadata": {},
   "outputs": [
    {
     "name": "stdout",
     "output_type": "stream",
     "text": [
      "Este es un método privado\n"
     ]
    }
   ],
   "source": [
    "a._A__metodo_privado()"
   ]
  },
  {
   "cell_type": "markdown",
   "metadata": {},
   "source": [
    "## Herencia"
   ]
  },
  {
   "cell_type": "code",
   "execution_count": 8,
   "metadata": {},
   "outputs": [],
   "source": [
    "class A():\n",
    "\n",
    "    def __init__(self):\n",
    "        self.a = 1\n",
    "        # _b es una variable protegida\n",
    "        self._b = 2\n",
    "        # __c es una variable privada\n",
    "        self.__c = 3\n",
    "\n",
    "    def metodo_publico(self):\n",
    "        print(\"Este es un método publico\")\n",
    "\n",
    "    def _metodo_protegido(self):\n",
    "        print(\"Este es un método protegido\")\n",
    "\n",
    "    def __metodo_privado(self):\n",
    "        print(\"Este es un método privado\")\n",
    "\n",
    "\n",
    "class B(A):\n",
    "    \n",
    "    def __init__(self):\n",
    "\n",
    "        A.__init__(self)\n",
    "\n",
    "        self.d = 4\n",
    "\n",
    "    def mostrar_b(self):\n",
    "        print(self._b)\n",
    "\n",
    "    def mostrar_c(self):\n",
    "        print(self.__c)\n",
    "\n",
    "a = A()\n",
    "b = B()"
   ]
  },
  {
   "cell_type": "code",
   "execution_count": 9,
   "metadata": {},
   "outputs": [
    {
     "name": "stdout",
     "output_type": "stream",
     "text": [
      "1\n",
      "2\n",
      "'A' object has no attribute '__c'\n"
     ]
    }
   ],
   "source": [
    "print(a.a)\n",
    "print(a._b)\n",
    "try:\n",
    "    print(a.__c)\n",
    "except Exception as e:\n",
    "    print(e)"
   ]
  },
  {
   "cell_type": "code",
   "execution_count": 10,
   "metadata": {},
   "outputs": [
    {
     "name": "stdout",
     "output_type": "stream",
     "text": [
      "1\n",
      "2\n",
      "'B' object has no attribute '__c'\n",
      "4\n"
     ]
    }
   ],
   "source": [
    "print(b.a)\n",
    "print(b._b)\n",
    "try:\n",
    "    print(b.__c)\n",
    "except Exception as e:\n",
    "    print(e)\n",
    "print(b.d)"
   ]
  },
  {
   "cell_type": "code",
   "execution_count": 11,
   "metadata": {},
   "outputs": [
    {
     "name": "stdout",
     "output_type": "stream",
     "text": [
      "2\n",
      "'B' object has no attribute '_B__c'\n"
     ]
    }
   ],
   "source": [
    "b.mostrar_b()\n",
    "try:\n",
    "    b.mostrar_c()\n",
    "except Exception as e:\n",
    "    print(e)"
   ]
  },
  {
   "cell_type": "code",
   "execution_count": 12,
   "metadata": {},
   "outputs": [
    {
     "name": "stdout",
     "output_type": "stream",
     "text": [
      "Este es un método publico\n",
      "Este es un método protegido\n",
      "'B' object has no attribute '__metodo_privado'\n"
     ]
    }
   ],
   "source": [
    "b.metodo_publico()\n",
    "b._metodo_protegido()\n",
    "try:\n",
    "    b.__metodo_privado()\n",
    "except Exception as e:\n",
    "    print(e)"
   ]
  },
  {
   "cell_type": "markdown",
   "metadata": {},
   "source": [
    "## Getters y Setters\n",
    "\n",
    "Para modificar los atributos se hace uso de los getters y setters, estos son métodos que brindan una interfaz de alto nivel para que se modifiquen los atributos."
   ]
  },
  {
   "cell_type": "code",
   "execution_count": 13,
   "metadata": {},
   "outputs": [],
   "source": [
    "class A():\n",
    "\n",
    "    def __init__(self):\n",
    "        \n",
    "        self.a = 1\n",
    "        self._b = 2\n",
    "        self.__c = 3\n",
    "\n",
    "    def get_a(self):\n",
    "        return self.a   \n",
    "    def set_a(self, a):\n",
    "        self.a = a\n",
    "\n",
    "    def get_b(self):\n",
    "        return self._b   \n",
    "    def set_b(self, b):\n",
    "        self._b = b\n",
    "\n",
    "    def get_c(self):\n",
    "        return self.__c   \n",
    "    def set_c(self, c):\n",
    "        self.__c = c"
   ]
  },
  {
   "cell_type": "code",
   "execution_count": 14,
   "metadata": {},
   "outputs": [
    {
     "name": "stdout",
     "output_type": "stream",
     "text": [
      "1\n",
      "2\n",
      "3\n"
     ]
    }
   ],
   "source": [
    "a = A()\n",
    "\n",
    "print(a.get_a())\n",
    "print(a.get_b())\n",
    "print(a.get_c())"
   ]
  },
  {
   "cell_type": "code",
   "execution_count": 15,
   "metadata": {},
   "outputs": [
    {
     "name": "stdout",
     "output_type": "stream",
     "text": [
      "10\n",
      "20\n",
      "30\n"
     ]
    }
   ],
   "source": [
    "a.set_a(10)\n",
    "a.set_b(20)\n",
    "a.set_c(30)\n",
    "\n",
    "print(a.get_a())\n",
    "print(a.get_b())\n",
    "print(a.get_c())"
   ]
  }
 ],
 "metadata": {
  "kernelspec": {
   "display_name": "Python 3",
   "language": "python",
   "name": "python3"
  },
  "language_info": {
   "codemirror_mode": {
    "name": "ipython",
    "version": 3
   },
   "file_extension": ".py",
   "mimetype": "text/x-python",
   "name": "python",
   "nbconvert_exporter": "python",
   "pygments_lexer": "ipython3",
   "version": "3.9.13"
  }
 },
 "nbformat": 4,
 "nbformat_minor": 2
}
