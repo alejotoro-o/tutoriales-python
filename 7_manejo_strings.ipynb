{
 "cells": [
  {
   "cell_type": "markdown",
   "metadata": {},
   "source": [
    "# Manejo de String en Python\n",
    "\n",
    "Las strings son un tipo de dato sumamente poderoso ya que cuenta con multiples métodos integrados que permiten realizar operaciones avanzadas."
   ]
  },
  {
   "cell_type": "code",
   "execution_count": 379,
   "metadata": {},
   "outputs": [
    {
     "name": "stdout",
     "output_type": "stream",
     "text": [
      "string\n",
      "<class 'str'>\n"
     ]
    }
   ],
   "source": [
    "a = \"string\"\n",
    "print(a)\n",
    "print(type(a))"
   ]
  },
  {
   "cell_type": "markdown",
   "metadata": {},
   "source": [
    "## Concatenación de strings"
   ]
  },
  {
   "cell_type": "code",
   "execution_count": 380,
   "metadata": {},
   "outputs": [
    {
     "name": "stdout",
     "output_type": "stream",
     "text": [
      "HolaMundo\n"
     ]
    }
   ],
   "source": [
    "a = \"Hola\"\n",
    "b = \"Mundo\"\n",
    "c = a + b\n",
    "\n",
    "print(c)"
   ]
  },
  {
   "cell_type": "code",
   "execution_count": 381,
   "metadata": {},
   "outputs": [
    {
     "name": "stdout",
     "output_type": "stream",
     "text": [
      "Hola Mundo\n"
     ]
    }
   ],
   "source": [
    "print(a + \" \" + b)"
   ]
  },
  {
   "cell_type": "markdown",
   "metadata": {},
   "source": [
    "## Comillas dentro de strings"
   ]
  },
  {
   "cell_type": "code",
   "execution_count": 382,
   "metadata": {},
   "outputs": [
    {
     "name": "stdout",
     "output_type": "stream",
     "text": [
      "Podemos incluir 'comillas' dentro de una string\n",
      "siempre que sean diferentes a las \"comillas\" exteriores\n",
      "It's ok\n"
     ]
    }
   ],
   "source": [
    "print(\"Podemos incluir 'comillas' dentro de una string\")\n",
    "print('siempre que sean diferentes a las \"comillas\" exteriores')\n",
    "print(\"It's ok\")"
   ]
  },
  {
   "cell_type": "markdown",
   "metadata": {},
   "source": [
    "## Strings de multiples lineas"
   ]
  },
  {
   "cell_type": "code",
   "execution_count": 383,
   "metadata": {},
   "outputs": [
    {
     "name": "stdout",
     "output_type": "stream",
     "text": [
      "Esta es una string de multiples lineas\n",
      "en la cual podemos escribir un texto de mayor\n",
      "longitud sin ningun problema.\n"
     ]
    }
   ],
   "source": [
    "a = \"\"\"Esta es una string de multiples lineas\n",
    "en la cual podemos escribir un texto de mayor\n",
    "longitud sin ningun problema.\"\"\"\n",
    "\n",
    "print(a)"
   ]
  },
  {
   "cell_type": "markdown",
   "metadata": {},
   "source": [
    "## Las tambien strings pueden ser manipuladas como un array"
   ]
  },
  {
   "cell_type": "code",
   "execution_count": 384,
   "metadata": {},
   "outputs": [
    {
     "name": "stdout",
     "output_type": "stream",
     "text": [
      "H\n",
      "a\n"
     ]
    }
   ],
   "source": [
    "a = \"Hola Mundo\"\n",
    "\n",
    "print(a[0])\n",
    "print(a[3])"
   ]
  },
  {
   "cell_type": "code",
   "execution_count": 385,
   "metadata": {},
   "outputs": [
    {
     "name": "stdout",
     "output_type": "stream",
     "text": [
      "H\n",
      "o\n",
      "l\n",
      "a\n",
      " \n",
      "M\n",
      "u\n",
      "n\n",
      "d\n",
      "o\n"
     ]
    }
   ],
   "source": [
    "for letra in a:\n",
    "    print(letra)"
   ]
  },
  {
   "cell_type": "markdown",
   "metadata": {},
   "source": [
    "Al ser manejadas como un array, las string puede ser partidas igual que una lista, permitiendo acceder facilmente a substrings"
   ]
  },
  {
   "cell_type": "code",
   "execution_count": 386,
   "metadata": {},
   "outputs": [
    {
     "name": "stdout",
     "output_type": "stream",
     "text": [
      "ol\n",
      "Hola\n",
      "la Mundo\n",
      "und\n"
     ]
    }
   ],
   "source": [
    "a = \"Hola Mundo\"\n",
    "\n",
    "print(a[1:3])\n",
    "print(a[:4])\n",
    "print(a[2:])\n",
    "print(a[-4:-1])"
   ]
  },
  {
   "cell_type": "markdown",
   "metadata": {},
   "source": [
    "## Obtener longitud de la string"
   ]
  },
  {
   "cell_type": "code",
   "execution_count": 387,
   "metadata": {},
   "outputs": [
    {
     "name": "stdout",
     "output_type": "stream",
     "text": [
      "4\n"
     ]
    }
   ],
   "source": [
    "a = \"Hola\"\n",
    "longitud = len(a)\n",
    "\n",
    "print(longitud)"
   ]
  },
  {
   "cell_type": "markdown",
   "metadata": {},
   "source": [
    "## Como encontrar si una string contine cierta frase o substring"
   ]
  },
  {
   "cell_type": "code",
   "execution_count": 388,
   "metadata": {},
   "outputs": [
    {
     "name": "stdout",
     "output_type": "stream",
     "text": [
      "True\n",
      "True\n",
      "False\n"
     ]
    }
   ],
   "source": [
    "a = \"Hola mundo\"\n",
    "\n",
    "print(\"l\" in a)\n",
    "print(\"Hola\" in a)\n",
    "print(\"hola\" in a)"
   ]
  },
  {
   "cell_type": "code",
   "execution_count": 389,
   "metadata": {},
   "outputs": [
    {
     "name": "stdout",
     "output_type": "stream",
     "text": [
      "La string contiene la palabra 'mundo'\n"
     ]
    }
   ],
   "source": [
    "if \"mundo\" in a:\n",
    "    print(\"La string contiene la palabra 'mundo'\")"
   ]
  },
  {
   "cell_type": "code",
   "execution_count": 390,
   "metadata": {},
   "outputs": [
    {
     "name": "stdout",
     "output_type": "stream",
     "text": [
      "La letra 'R' no esta en la frase 'Hola mundo'\n"
     ]
    }
   ],
   "source": [
    "if \"R\" not in a:\n",
    "    print(\"La letra 'R' no esta en la frase 'Hola mundo'\")"
   ]
  },
  {
   "cell_type": "markdown",
   "metadata": {},
   "source": [
    "Tambien podemos encontrar el indice en el cual se encuentra una letra o substring especifica"
   ]
  },
  {
   "cell_type": "code",
   "execution_count": 391,
   "metadata": {},
   "outputs": [
    {
     "name": "stdout",
     "output_type": "stream",
     "text": [
      "0\n",
      "5\n",
      "5\n",
      "5\n"
     ]
    }
   ],
   "source": [
    "print(a.index(\"H\"))\n",
    "print(a.index(\"m\"))\n",
    "print(a.index(\"mun\"))\n",
    "print(a.index(\"mundo\"))"
   ]
  },
  {
   "cell_type": "markdown",
   "metadata": {},
   "source": [
    "## Modificación de cadenas"
   ]
  },
  {
   "cell_type": "code",
   "execution_count": 392,
   "metadata": {},
   "outputs": [
    {
     "name": "stdout",
     "output_type": "stream",
     "text": [
      "Hola mundo\n",
      "HOLA MUNDO\n"
     ]
    }
   ],
   "source": [
    "a = \"hola mundo\"\n",
    "\n",
    "print(a.capitalize())\n",
    "print(a.upper())"
   ]
  },
  {
   "cell_type": "code",
   "execution_count": 393,
   "metadata": {},
   "outputs": [
    {
     "name": "stdout",
     "output_type": "stream",
     "text": [
      "hola mundo\n",
      "hola mundo\n"
     ]
    }
   ],
   "source": [
    "a = \"Hola MUNDO\"\n",
    "\n",
    "print(a.casefold())\n",
    "print(a.lower())"
   ]
  },
  {
   "cell_type": "code",
   "execution_count": 394,
   "metadata": {},
   "outputs": [
    {
     "name": "stdout",
     "output_type": "stream",
     "text": [
      "    Hola mundo\n",
      "Hola mundo\n"
     ]
    }
   ],
   "source": [
    "a = \"    Hola mundo\"\n",
    "\n",
    "print(a)\n",
    "print(a.strip())"
   ]
  },
  {
   "cell_type": "code",
   "execution_count": 395,
   "metadata": {},
   "outputs": [
    {
     "name": "stdout",
     "output_type": "stream",
     "text": [
      "Jola Mundo\n"
     ]
    }
   ],
   "source": [
    "a = \"Hola Mundo\"\n",
    "\n",
    "print(a.replace(\"H\", \"J\"))"
   ]
  },
  {
   "cell_type": "code",
   "execution_count": 396,
   "metadata": {},
   "outputs": [
    {
     "name": "stdout",
     "output_type": "stream",
     "text": [
      "['Hola', 'Mundo']\n"
     ]
    }
   ],
   "source": [
    "print(a.split())"
   ]
  },
  {
   "cell_type": "code",
   "execution_count": 397,
   "metadata": {},
   "outputs": [
    {
     "name": "stdout",
     "output_type": "stream",
     "text": [
      "['Esta', 'es-una', 'cadena']\n",
      "['Esta es', 'una cadena']\n"
     ]
    }
   ],
   "source": [
    "a = \"Esta es-una cadena\"\n",
    "\n",
    "print(a.split())\n",
    "print(a.split(\"-\"))"
   ]
  },
  {
   "cell_type": "markdown",
   "metadata": {},
   "source": [
    "## Podemos aplicar formatos y añadir placeholders"
   ]
  },
  {
   "cell_type": "code",
   "execution_count": 398,
   "metadata": {},
   "outputs": [
    {
     "name": "stdout",
     "output_type": "stream",
     "text": [
      "Yo tengo 20 años\n"
     ]
    }
   ],
   "source": [
    "edad = 20\n",
    "a = f\"Yo tengo {edad} años\"\n",
    "\n",
    "print(a)"
   ]
  },
  {
   "cell_type": "code",
   "execution_count": 399,
   "metadata": {},
   "outputs": [
    {
     "name": "stdout",
     "output_type": "stream",
     "text": [
      "Yo tengo 20 años\n"
     ]
    }
   ],
   "source": [
    "print(f\"Yo tengo %s años\" % edad)"
   ]
  },
  {
   "cell_type": "code",
   "execution_count": 400,
   "metadata": {},
   "outputs": [
    {
     "name": "stdout",
     "output_type": "stream",
     "text": [
      "El precio es de  3.0\n",
      "El precio es de  2.99\n",
      "El precio es de  2.990\n",
      "El precio es de  2.990000\n"
     ]
    }
   ],
   "source": [
    "precio = 2.99\n",
    "\n",
    "print(f\"El precio es de {precio: .1f}\")\n",
    "print(f\"El precio es de {precio: .2f}\")\n",
    "print(f\"El precio es de {precio: .3f}\")\n",
    "print(f\"El precio es de {precio: f}\")"
   ]
  },
  {
   "cell_type": "code",
   "execution_count": 401,
   "metadata": {},
   "outputs": [
    {
     "name": "stdout",
     "output_type": "stream",
     "text": [
      "El precio es de 2.99\n",
      "El precio es de 2\n"
     ]
    }
   ],
   "source": [
    "print(f\"El precio es de %.2f\" % precio)\n",
    "print(f\"El precio es de %i\" % precio)"
   ]
  },
  {
   "cell_type": "code",
   "execution_count": 402,
   "metadata": {},
   "outputs": [
    {
     "name": "stdout",
     "output_type": "stream",
     "text": [
      "El costo de 4 del producto es 11.96\n"
     ]
    }
   ],
   "source": [
    "unidades = 4\n",
    "\n",
    "print(f\"El costo de {unidades} del producto es {precio*unidades}\")"
   ]
  },
  {
   "cell_type": "markdown",
   "metadata": {},
   "source": [
    "## Caracteres de escape\n",
    "\n",
    "| Caracter | Resultado |\n",
    "| ----------- | ----------- |\n",
    "| \\\\\" | Comillas |\n",
    "| \\\\' | Comillas simples |\n",
    "| \\\\\\ | Backslash |\n",
    "| \\\\n | Nueva linea |\n",
    "| \\\\r | Retorno de linea |\n",
    "| \\\\t | Tab |\n",
    "| \\\\b | Backspace (Borrar) |\n",
    "| \\\\f | Form feed (Nueva pagina) |\n",
    "| \\\\ooo | Valor Octal |\n",
    "| \\\\xhh | Valor Hexadecimal |\n"
   ]
  },
  {
   "cell_type": "code",
   "execution_count": 403,
   "metadata": {},
   "outputs": [
    {
     "name": "stdout",
     "output_type": "stream",
     "text": [
      "Hola \"mundo\"\n",
      "Hola 'mundo'\n",
      "Hola \\ Mundo\n",
      "¡Hola\n",
      "Mundo!\n",
      "Mundo\n",
      "Hola\tMundo\n",
      "Hol Mundo\n",
      "Hola Mundo\n",
      "Hola Mundo\n"
     ]
    }
   ],
   "source": [
    "print(\"Hola \\\"mundo\\\"\")\n",
    "print('Hola \\'mundo\\'')\n",
    "print(\"Hola \\\\ Mundo\")\n",
    "print(\"¡Hola\\nMundo!\")\n",
    "print(\"Hola \\rMundo\")\n",
    "print(\"Hola\\tMundo\")\n",
    "print(\"Hola\\b Mundo\")\n",
    "print(\"\\110\\157\\154\\141 Mundo\")\n",
    "print(\"\\x48\\x6f\\x6c\\x61 Mundo\")"
   ]
  },
  {
   "cell_type": "markdown",
   "metadata": {},
   "source": [
    "## Metodos adicionales\n",
    "\n",
    "Los métodos presentados son los principales, sin embargo existen metodos adicionales que pueden ser encontrados en el siguiente link [https://www.w3schools.com/python/python_strings_methods.asp](https://www.w3schools.com/python/python_strings_methods.asp)"
   ]
  }
 ],
 "metadata": {
  "kernelspec": {
   "display_name": "Python 3",
   "language": "python",
   "name": "python3"
  },
  "language_info": {
   "codemirror_mode": {
    "name": "ipython",
    "version": 3
   },
   "file_extension": ".py",
   "mimetype": "text/x-python",
   "name": "python",
   "nbconvert_exporter": "python",
   "pygments_lexer": "ipython3",
   "version": "3.9.13"
  }
 },
 "nbformat": 4,
 "nbformat_minor": 2
}
